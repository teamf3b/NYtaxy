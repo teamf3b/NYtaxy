{
 "cells": [
  {
   "cell_type": "code",
   "execution_count": 18,
   "metadata": {},
   "outputs": [],
   "source": [
    "import pandas as pd\n",
    "import numpy as np\n",
    "#!pip install xgboost\n",
    "import xgboost as xgb\n",
    "from haversine import haversine"
   ]
  },
  {
   "cell_type": "code",
   "execution_count": 19,
   "metadata": {},
   "outputs": [
    {
     "data": {
      "text/html": [
       "<div>\n",
       "<style scoped>\n",
       "    .dataframe tbody tr th:only-of-type {\n",
       "        vertical-align: middle;\n",
       "    }\n",
       "\n",
       "    .dataframe tbody tr th {\n",
       "        vertical-align: top;\n",
       "    }\n",
       "\n",
       "    .dataframe thead th {\n",
       "        text-align: right;\n",
       "    }\n",
       "</style>\n",
       "<table border=\"1\" class=\"dataframe\">\n",
       "  <thead>\n",
       "    <tr style=\"text-align: right;\">\n",
       "      <th></th>\n",
       "      <th>Unnamed: 0</th>\n",
       "      <th>id</th>\n",
       "      <th>vendor_id</th>\n",
       "      <th>pickup_datetime</th>\n",
       "      <th>dropoff_datetime</th>\n",
       "      <th>passenger_count</th>\n",
       "      <th>pickup_longitude</th>\n",
       "      <th>pickup_latitude</th>\n",
       "      <th>dropoff_longitude</th>\n",
       "      <th>dropoff_latitude</th>\n",
       "      <th>...</th>\n",
       "      <th>y2</th>\n",
       "      <th>distance1</th>\n",
       "      <th>logdistance1</th>\n",
       "      <th>havers_dist</th>\n",
       "      <th>pickup_min</th>\n",
       "      <th>pickup_sec</th>\n",
       "      <th>pickup_day</th>\n",
       "      <th>pickup_date</th>\n",
       "      <th>pickup_mon</th>\n",
       "      <th>speed</th>\n",
       "    </tr>\n",
       "  </thead>\n",
       "  <tbody>\n",
       "    <tr>\n",
       "      <th>0</th>\n",
       "      <td>0</td>\n",
       "      <td>id2875421</td>\n",
       "      <td>2</td>\n",
       "      <td>2016-03-14 17:24:55</td>\n",
       "      <td>2016-03-14 17:32:30</td>\n",
       "      <td>1</td>\n",
       "      <td>-73.982155</td>\n",
       "      <td>40.767937</td>\n",
       "      <td>-73.964630</td>\n",
       "      <td>40.765602</td>\n",
       "      <td>...</td>\n",
       "      <td>-4637.567460</td>\n",
       "      <td>1.485567</td>\n",
       "      <td>0.910501</td>\n",
       "      <td>1.498523</td>\n",
       "      <td>24</td>\n",
       "      <td>55</td>\n",
       "      <td>0</td>\n",
       "      <td>14</td>\n",
       "      <td>3</td>\n",
       "      <td>11.856445</td>\n",
       "    </tr>\n",
       "    <tr>\n",
       "      <th>1</th>\n",
       "      <td>1</td>\n",
       "      <td>id2377394</td>\n",
       "      <td>1</td>\n",
       "      <td>2016-06-12 00:43:35</td>\n",
       "      <td>2016-06-12 00:54:38</td>\n",
       "      <td>1</td>\n",
       "      <td>-73.980415</td>\n",
       "      <td>40.738564</td>\n",
       "      <td>-73.999481</td>\n",
       "      <td>40.731152</td>\n",
       "      <td>...</td>\n",
       "      <td>-4640.780951</td>\n",
       "      <td>1.694063</td>\n",
       "      <td>0.991050</td>\n",
       "      <td>1.805510</td>\n",
       "      <td>43</td>\n",
       "      <td>35</td>\n",
       "      <td>6</td>\n",
       "      <td>12</td>\n",
       "      <td>6</td>\n",
       "      <td>9.803672</td>\n",
       "    </tr>\n",
       "    <tr>\n",
       "      <th>2</th>\n",
       "      <td>2</td>\n",
       "      <td>id3858529</td>\n",
       "      <td>2</td>\n",
       "      <td>2016-01-19 11:35:24</td>\n",
       "      <td>2016-01-19 12:10:48</td>\n",
       "      <td>1</td>\n",
       "      <td>-73.979027</td>\n",
       "      <td>40.763939</td>\n",
       "      <td>-74.005333</td>\n",
       "      <td>40.710087</td>\n",
       "      <td>...</td>\n",
       "      <td>-4642.385731</td>\n",
       "      <td>4.492538</td>\n",
       "      <td>1.703390</td>\n",
       "      <td>6.385107</td>\n",
       "      <td>35</td>\n",
       "      <td>24</td>\n",
       "      <td>1</td>\n",
       "      <td>19</td>\n",
       "      <td>1</td>\n",
       "      <td>10.822216</td>\n",
       "    </tr>\n",
       "    <tr>\n",
       "      <th>3</th>\n",
       "      <td>3</td>\n",
       "      <td>id3504673</td>\n",
       "      <td>2</td>\n",
       "      <td>2016-04-06 19:32:31</td>\n",
       "      <td>2016-04-06 19:39:40</td>\n",
       "      <td>1</td>\n",
       "      <td>-74.010040</td>\n",
       "      <td>40.719971</td>\n",
       "      <td>-74.012268</td>\n",
       "      <td>40.706718</td>\n",
       "      <td>...</td>\n",
       "      <td>-4642.781602</td>\n",
       "      <td>0.979350</td>\n",
       "      <td>0.682769</td>\n",
       "      <td>1.485500</td>\n",
       "      <td>32</td>\n",
       "      <td>31</td>\n",
       "      <td>2</td>\n",
       "      <td>6</td>\n",
       "      <td>4</td>\n",
       "      <td>12.465738</td>\n",
       "    </tr>\n",
       "    <tr>\n",
       "      <th>4</th>\n",
       "      <td>4</td>\n",
       "      <td>id2181028</td>\n",
       "      <td>2</td>\n",
       "      <td>2016-03-26 13:30:55</td>\n",
       "      <td>2016-03-26 13:38:10</td>\n",
       "      <td>1</td>\n",
       "      <td>-73.973053</td>\n",
       "      <td>40.793209</td>\n",
       "      <td>-73.972923</td>\n",
       "      <td>40.782520</td>\n",
       "      <td>...</td>\n",
       "      <td>-4636.579512</td>\n",
       "      <td>0.776502</td>\n",
       "      <td>0.574646</td>\n",
       "      <td>1.188590</td>\n",
       "      <td>30</td>\n",
       "      <td>55</td>\n",
       "      <td>5</td>\n",
       "      <td>26</td>\n",
       "      <td>3</td>\n",
       "      <td>9.836608</td>\n",
       "    </tr>\n",
       "  </tbody>\n",
       "</table>\n",
       "<p>5 rows × 28 columns</p>\n",
       "</div>"
      ],
      "text/plain": [
       "   Unnamed: 0         id  vendor_id      pickup_datetime     dropoff_datetime  \\\n",
       "0           0  id2875421          2  2016-03-14 17:24:55  2016-03-14 17:32:30   \n",
       "1           1  id2377394          1  2016-06-12 00:43:35  2016-06-12 00:54:38   \n",
       "2           2  id3858529          2  2016-01-19 11:35:24  2016-01-19 12:10:48   \n",
       "3           3  id3504673          2  2016-04-06 19:32:31  2016-04-06 19:39:40   \n",
       "4           4  id2181028          2  2016-03-26 13:30:55  2016-03-26 13:38:10   \n",
       "\n",
       "   passenger_count  pickup_longitude  pickup_latitude  dropoff_longitude  \\\n",
       "0                1        -73.982155        40.767937         -73.964630   \n",
       "1                1        -73.980415        40.738564         -73.999481   \n",
       "2                1        -73.979027        40.763939         -74.005333   \n",
       "3                1        -74.010040        40.719971         -74.012268   \n",
       "4                1        -73.973053        40.793209         -73.972923   \n",
       "\n",
       "   dropoff_latitude    ...               y2  distance1  logdistance1  \\\n",
       "0         40.765602    ...     -4637.567460   1.485567      0.910501   \n",
       "1         40.731152    ...     -4640.780951   1.694063      0.991050   \n",
       "2         40.710087    ...     -4642.385731   4.492538      1.703390   \n",
       "3         40.706718    ...     -4642.781602   0.979350      0.682769   \n",
       "4         40.782520    ...     -4636.579512   0.776502      0.574646   \n",
       "\n",
       "   havers_dist pickup_min  pickup_sec  pickup_day  pickup_date  pickup_mon  \\\n",
       "0     1.498523         24          55           0           14           3   \n",
       "1     1.805510         43          35           6           12           6   \n",
       "2     6.385107         35          24           1           19           1   \n",
       "3     1.485500         32          31           2            6           4   \n",
       "4     1.188590         30          55           5           26           3   \n",
       "\n",
       "       speed  \n",
       "0  11.856445  \n",
       "1   9.803672  \n",
       "2  10.822216  \n",
       "3  12.465738  \n",
       "4   9.836608  \n",
       "\n",
       "[5 rows x 28 columns]"
      ]
     },
     "execution_count": 19,
     "metadata": {},
     "output_type": "execute_result"
    }
   ],
   "source": [
    "taxi_set = pd.read_csv('cleaned_set.csv')\n",
    "taxi_set.head()"
   ]
  },
  {
   "cell_type": "code",
   "execution_count": 20,
   "metadata": {},
   "outputs": [
    {
     "data": {
      "text/plain": [
       "Index(['Unnamed: 0', 'id', 'vendor_id', 'pickup_datetime', 'dropoff_datetime',\n",
       "       'passenger_count', 'pickup_longitude', 'pickup_latitude',\n",
       "       'dropoff_longitude', 'dropoff_latitude', 'store_and_fwd_flag',\n",
       "       'trip_duration', 'logduration', 'pickup_hour', 'pickup_DayHour', 'x1',\n",
       "       'y1', 'x2', 'y2', 'distance1', 'logdistance1', 'havers_dist',\n",
       "       'pickup_min', 'pickup_sec', 'pickup_day', 'pickup_date', 'pickup_mon',\n",
       "       'speed'],\n",
       "      dtype='object')"
      ]
     },
     "execution_count": 20,
     "metadata": {},
     "output_type": "execute_result"
    }
   ],
   "source": [
    "taxi_set.columns"
   ]
  },
  {
   "cell_type": "markdown",
   "metadata": {},
   "source": [
    "### Converting Trip duration in Hours"
   ]
  },
  {
   "cell_type": "code",
   "execution_count": 21,
   "metadata": {},
   "outputs": [],
   "source": [
    "taxi_set['trip_dur_in_hr']=taxi_set['trip_duration']/3600"
   ]
  },
  {
   "cell_type": "code",
   "execution_count": 22,
   "metadata": {},
   "outputs": [
    {
     "data": {
      "text/plain": [
       "count    1.458487e+06\n",
       "mean     2.646940e-01\n",
       "std      8.809655e-01\n",
       "min      2.777778e-04\n",
       "25%      1.102778e-01\n",
       "50%      1.838889e-01\n",
       "75%      2.986111e-01\n",
       "max      2.399778e+01\n",
       "Name: trip_dur_in_hr, dtype: float64"
      ]
     },
     "execution_count": 22,
     "metadata": {},
     "output_type": "execute_result"
    }
   ],
   "source": [
    "taxi_set['trip_dur_in_hr'].describe()"
   ]
  },
  {
   "cell_type": "markdown",
   "metadata": {},
   "source": [
    "max value in 23 hour, we gonna remove trip with duration more than 2h"
   ]
  },
  {
   "cell_type": "code",
   "execution_count": 23,
   "metadata": {},
   "outputs": [],
   "source": [
    "taxi_set=taxi_set[taxi_set['trip_dur_in_hr'] <= 2]"
   ]
  },
  {
   "cell_type": "code",
   "execution_count": 24,
   "metadata": {},
   "outputs": [
    {
     "data": {
      "text/plain": [
       "count    1.456238e+06\n",
       "mean     2.322628e-01\n",
       "std      1.817477e-01\n",
       "min      2.777778e-04\n",
       "25%      1.102778e-01\n",
       "50%      1.838889e-01\n",
       "75%      2.980556e-01\n",
       "max      1.997500e+00\n",
       "Name: trip_dur_in_hr, dtype: float64"
      ]
     },
     "execution_count": 24,
     "metadata": {},
     "output_type": "execute_result"
    }
   ],
   "source": [
    "taxi_set['trip_dur_in_hr'].describe()"
   ]
  },
  {
   "cell_type": "code",
   "execution_count": 25,
   "metadata": {},
   "outputs": [
    {
     "data": {
      "text/plain": [
       "Index(['Unnamed: 0', 'id', 'vendor_id', 'pickup_datetime', 'dropoff_datetime',\n",
       "       'passenger_count', 'pickup_longitude', 'pickup_latitude',\n",
       "       'dropoff_longitude', 'dropoff_latitude', 'store_and_fwd_flag',\n",
       "       'trip_duration', 'logduration', 'pickup_hour', 'pickup_DayHour', 'x1',\n",
       "       'y1', 'x2', 'y2', 'distance1', 'logdistance1', 'havers_dist',\n",
       "       'pickup_min', 'pickup_sec', 'pickup_day', 'pickup_date', 'pickup_mon',\n",
       "       'speed', 'trip_dur_in_hr'],\n",
       "      dtype='object')"
      ]
     },
     "execution_count": 25,
     "metadata": {},
     "output_type": "execute_result"
    }
   ],
   "source": [
    "taxi_set.columns"
   ]
  },
  {
   "cell_type": "code",
   "execution_count": 26,
   "metadata": {},
   "outputs": [],
   "source": [
    "def create_datetime(df):\n",
    "\n",
    "    df['pickup_datetime']=pd.to_datetime(df['pickup_datetime'])\n",
    "\n",
    "    # Hour of the day\n",
    "    df['pickup_seconds'] = (df['pickup_sec'] + df['pickup_min'] * 60 + df['pickup_hour'] * 3600)\n",
    "    df['weather']=[1 if (i in [1,2,3]) else(2 if (i in [4,11,12]) else 3) for i in df['pickup_mon']]\n",
    "    df['quarter']=df['pickup_datetime'].dt.quarter  ## quarter of the year\n",
    "    df['mid_latitude']=(df['dropoff_latitude']-df['pickup_latitude'])/2\n",
    "    df['mid_longitude']=(df['dropoff_longitude']-df['pickup_longitude'])/2\n",
    "    df['night']=[1 if (i==0 or i>=20)  else 0 for i in df['pickup_hour']]\n",
    "    df['too_late']=[1 if (i<5 and i>0)  else 0 for i in df['pickup_hour']]\n",
    "    \n",
    "\n",
    "# Harvesine Distance\n",
    "\n",
    "def create_distance(df):\n",
    "    \n",
    "    #Haversine distance already in the file\n",
    "    #df['havers_dist'] = df.apply(lambda x: haversine(\n",
    "        #(x['pickup_latitude'], x['pickup_longitude']),\n",
    "        #(x['dropoff_latitude'], x['dropoff_longitude'])), axis=1)\n",
    "    \n",
    "    #Manhattan distance\n",
    "    df['Manhattan_dist']=[min(abs(i-j),abs(k-l)) for i,j,k,l in zip(df['x1'],df['y1'],df['x2'],df['y2'])]\n",
    "    \n",
    "    #Chebyshev distance\n",
    "    df['Chebyshev_dist']=[max(abs(i-j),abs(k-l)) for i,j,k,l in zip(df['x1'],df['y1'],df['x2'],df['y2'])]"
   ]
  },
  {
   "cell_type": "code",
   "execution_count": 27,
   "metadata": {},
   "outputs": [],
   "source": [
    "create_datetime(taxi_set)\n",
    "create_distance(taxi_set)"
   ]
  },
  {
   "cell_type": "markdown",
   "metadata": {},
   "source": [
    "‘Lon’ is point A longitude and ‘lat’ is point A latitude\n",
    "Bearing from point A to B, can be calculated as,\n",
    "\n",
    "##### β = atan2(X,Y), \n",
    "where, X and Y are two quantities and can be calculated as:\n",
    "\n",
    "##### X = cos lat2 * sin (lon2-lon1)\n",
    "##### Y = cos lat1 * sin lat2 – sin lat1 * cos lat2 * cos (lon2-lon1)\n",
    "##### https://www.igismap.com/formula-to-find-bearing-or-heading-angle-between-two-points-latitude-longitude/"
   ]
  },
  {
   "cell_type": "code",
   "execution_count": 28,
   "metadata": {},
   "outputs": [],
   "source": [
    "def bearing_heading(lat1, lon1, lat2, lon2):\n",
    "    #R = 6371  # in km\n",
    "    delta = np.radians(lon2 - lon1)\n",
    "    lat1, lon1, lat2, lon2 = map(np.radians, (lat1, lon1, lat2, lon2))\n",
    "    \n",
    "    X = np.cos(lat2) * np.sin(delta)\n",
    "    Y = np.cos(lat1) * np.sin(lat2) - np.sin(lat1) * np.cos(lat2) * np.cos(delta)\n",
    "    beta = np.arctan2(X, Y)\n",
    "    \n",
    "    return np.degrees(beta)"
   ]
  },
  {
   "cell_type": "code",
   "execution_count": 29,
   "metadata": {},
   "outputs": [],
   "source": [
    "taxi_set['bearing_direction']=[bearing_heading(i,j,k,l) for i,j,k,l in zip(taxi_set['pickup_latitude'], \n",
    "                                                                       taxi_set['pickup_longitude'],\n",
    "                                                                       taxi_set['dropoff_latitude'], \n",
    "                                                                       taxi_set['dropoff_longitude'])]"
   ]
  },
  {
   "cell_type": "code",
   "execution_count": 64,
   "metadata": {},
   "outputs": [
    {
     "name": "stdout",
     "output_type": "stream",
     "text": [
      "[[22.333037, 22.102899, 21.767164, 22.245214, 25.325405, 24.929526, 20.307409, 15.666084, 12.67998, 12.244633, 12.477613, 12.656218, 12.566172, 13.025288, 12.808489, 12.686629, 13.080707, 13.002506, 13.29364, 15.167931, 16.994081, 17.461827, 17.9094, 19.59366], [20.562532, 21.616404, 21.770608, 22.76306, 24.856568, 24.129242, 19.369695, 14.521833, 11.427854, 10.820469, 10.776044, 10.726649, 10.868469, 11.199209, 11.28021, 11.172093, 11.809069, 11.729965, 12.029087, 13.877005, 15.578692, 16.300855, 16.910561, 18.330156], [19.37672, 20.750885, 21.302939, 21.866793, 24.200079, 24.175387, 19.61212, 14.581652, 11.635727, 10.880393, 10.850843, 10.574472, 10.500417, 10.855851, 10.825831, 10.777402, 11.457749, 11.293764, 11.617042, 13.075672, 15.054876, 15.815213, 16.166591, 17.455462], [18.832671, 20.479438, 20.9045, 22.270679, 23.993528, 24.207339, 19.665303, 14.573742, 11.477658, 10.98505, 10.967974, 10.79351, 10.737044, 11.178609, 10.951684, 10.808606, 11.436034, 11.424415, 11.6072, 12.862582, 14.516052, 15.048183, 15.317568, 16.455122], [17.49214, 18.707439, 19.297076, 20.311841, 22.509828, 24.222232, 19.973716, 15.082555, 12.018873, 11.314388, 11.487383, 11.333629, 11.5837, 12.297441, 11.725068, 11.319773, 11.944104, 12.063089, 12.184738, 12.820099, 14.179112, 14.629484, 14.49362, 14.826862], [15.623724, 16.864136, 17.525976, 18.747815, 20.493898, 24.570547, 24.047556, 21.369728, 18.669621, 16.778308, 15.74626, 14.572154, 13.906002, 13.445517, 13.437556, 13.32597, 13.407703, 13.297607, 12.767584, 12.485589, 13.519888, 14.136949, 14.019068, 14.650097], [15.6316, 16.600057, 17.736745, 18.916407, 20.123782, 24.054307, 25.588758, 23.57032, 20.589471, 19.138075, 17.555707, 16.016732, 15.257673, 14.730416, 14.410259, 14.395244, 14.336594, 14.597973, 14.586605, 15.385645, 16.580337, 17.683201, 18.88172, 20.388306]]\n"
     ]
    },
    {
     "name": "stderr",
     "output_type": "stream",
     "text": [
      "/usr/local/lib/python3.7/site-packages/ipykernel_launcher.py:25: SettingWithCopyWarning: \n",
      "A value is trying to be set on a copy of a slice from a DataFrame\n",
      "\n",
      "See the caveats in the documentation: http://pandas.pydata.org/pandas-docs/stable/indexing.html#indexing-view-versus-copy\n",
      "/usr/local/lib/python3.7/site-packages/ipykernel_launcher.py:25: SettingWithCopyWarning: \n",
      "A value is trying to be set on a copy of a slice from a DataFrame\n",
      "\n",
      "See the caveats in the documentation: http://pandas.pydata.org/pandas-docs/stable/indexing.html#indexing-view-versus-copy\n"
     ]
    }
   ],
   "source": [
    "MSH_list=[]\n",
    "\n",
    "def create_speed(df):\n",
    "    #calcul de la vitesse moyenne pour une course\n",
    "    df['speed'] = df['havers_dist']/df['trip_duration']\n",
    "    \n",
    "def create_hour(df):\n",
    "    #calcul de la tranche horaire du pickup (en heure)\n",
    "    df['pickup_hour']=df['pickup_datetime'].dt.hour\n",
    "\n",
    "def create_meanspeedhour_list(df):\n",
    "    #création d'une liste des meanspeedhour associées à chaque heure et jour\n",
    "    for j in range (0,7):\n",
    "        heure0 = round(df['speed'][(df['pickup_hour'] == 0) & (df['pickup_day'] == j)].mean(),6)\n",
    "        MSH_list.append([heure0])\n",
    "        for i in range(1,24):\n",
    "            MSH_list[j].append(round(df['speed'][(df['pickup_hour'] == i) & (df['pickup_day'] == j)].mean(),6))\n",
    "        \n",
    "    print(MSH_list)\n",
    "        \n",
    "def create_meanspeedhour(df):\n",
    "    df['average_speed'] = df['pickup_hour']\n",
    "    for i in range(0,24):\n",
    "        for j in range (0,7):\n",
    "            df['average_speed'][(df['pickup_hour'] == i) & (df['pickup_day'] == j)] = MSH_list[j][i]\n",
    "            \n",
    "def create_average_duration(df):\n",
    "    df['average_duration']=df['havers_dist']/df['average_speed']\n",
    "\n",
    "# create_speed(taxi_set)\n",
    "# create_hour(taxi_set)\n",
    "\n",
    "create_meanspeedhour_list(taxi_set)\n",
    "create_meanspeedhour(taxi_set)\n",
    "create_average_duration(taxi_set)"
   ]
  },
  {
   "cell_type": "code",
   "execution_count": 66,
   "metadata": {},
   "outputs": [
    {
     "data": {
      "text/plain": [
       "Index(['Unnamed: 0', 'id', 'vendor_id', 'pickup_datetime', 'dropoff_datetime',\n",
       "       'passenger_count', 'pickup_longitude', 'pickup_latitude',\n",
       "       'dropoff_longitude', 'dropoff_latitude', 'store_and_fwd_flag',\n",
       "       'trip_duration', 'logduration', 'pickup_hour', 'pickup_DayHour', 'x1',\n",
       "       'y1', 'x2', 'y2', 'distance1', 'logdistance1', 'havers_dist',\n",
       "       'pickup_min', 'pickup_sec', 'pickup_day', 'pickup_date', 'pickup_mon',\n",
       "       'speed', 'trip_dur_in_hr', 'pickup_seconds', 'weather', 'quarter',\n",
       "       'mid_latitude', 'mid_longitude', 'night', 'too_late', 'Manhattan_dist',\n",
       "       'Chebyshev_dist', 'bearing_direction', 'average_speed',\n",
       "       'average_duration'],\n",
       "      dtype='object')"
      ]
     },
     "execution_count": 66,
     "metadata": {},
     "output_type": "execute_result"
    }
   ],
   "source": [
    "taxi_set.columns"
   ]
  },
  {
   "cell_type": "code",
   "execution_count": 68,
   "metadata": {},
   "outputs": [],
   "source": [
    "## drop columns to avoid data type problems in xgboost\n",
    "train=taxi_set.drop(['id',\n",
    "                     # 'vendor_id',\n",
    "                     'Unnamed: 0',\n",
    "                     'pickup_datetime',\n",
    "                     'dropoff_datetime',\n",
    "                     'store_and_fwd_flag',\n",
    "                     'logduration',\n",
    "                     'trip_dur_in_hr',\n",
    "                     'pickup_DayHour',\n",
    "                     'speed',\n",
    "                     'too_late',\n",
    "                     'night',\n",
    "                     'quarter',\n",
    "                     'weather',\n",
    "                    ],1)"
   ]
  },
  {
   "cell_type": "code",
   "execution_count": 69,
   "metadata": {},
   "outputs": [
    {
     "data": {
      "text/plain": [
       "Index(['vendor_id', 'passenger_count', 'pickup_longitude', 'pickup_latitude',\n",
       "       'dropoff_longitude', 'dropoff_latitude', 'trip_duration', 'pickup_hour',\n",
       "       'x1', 'y1', 'x2', 'y2', 'distance1', 'logdistance1', 'havers_dist',\n",
       "       'pickup_min', 'pickup_sec', 'pickup_day', 'pickup_date', 'pickup_mon',\n",
       "       'pickup_seconds', 'mid_latitude', 'mid_longitude', 'Manhattan_dist',\n",
       "       'Chebyshev_dist', 'bearing_direction', 'average_speed',\n",
       "       'average_duration'],\n",
       "      dtype='object')"
      ]
     },
     "execution_count": 69,
     "metadata": {},
     "output_type": "execute_result"
    }
   ],
   "source": [
    "train.columns"
   ]
  },
  {
   "cell_type": "code",
   "execution_count": 70,
   "metadata": {},
   "outputs": [],
   "source": [
    "y=np.log(train['trip_duration'].values + 1)\n",
    "x=train.drop(['trip_duration'],1)"
   ]
  },
  {
   "cell_type": "markdown",
   "metadata": {},
   "source": [
    "### xgboost"
   ]
  },
  {
   "cell_type": "code",
   "execution_count": 71,
   "metadata": {},
   "outputs": [],
   "source": [
    "from sklearn.model_selection import train_test_split\n",
    "Xtrain, Xvalid, ytrain, yvalid = train_test_split(x, y, test_size=0.2, random_state=1996)"
   ]
  },
  {
   "cell_type": "code",
   "execution_count": 72,
   "metadata": {},
   "outputs": [],
   "source": [
    "dtrain = xgb.DMatrix(Xtrain, label=ytrain)"
   ]
  },
  {
   "cell_type": "code",
   "execution_count": 78,
   "metadata": {},
   "outputs": [],
   "source": [
    "dvalid = xgb.DMatrix(Xvalid, label=yvalid)\n",
    "#dtest = xgb.DMatrix(test[feature_names].values)\n",
    "evallist = [(dtrain, 'train'), (dvalid, 'valid')]\n",
    "\n",
    "num_round = 100000\n",
    "#From mayank's kernel\n",
    "xgb_pars = {\n",
    "    'min_child_weight': 10,\n",
    "    'eta': 0.03,\n",
    "    'colsample_bytree': 0.3,\n",
    "    'max_depth': 10,\n",
    "    'subsample': 0.8,\n",
    "    'lambda': 1,\n",
    "    'nthread': -1,\n",
    "    'booster' : 'gbtree',\n",
    "    'silent': 1,\n",
    "    'eval_metric': 'rmse',\n",
    "    'objective': 'reg:linear'\n",
    "}"
   ]
  },
  {
   "cell_type": "code",
   "execution_count": 79,
   "metadata": {},
   "outputs": [],
   "source": [
    "from sklearn.model_selection import GridSearchCV\n",
    "import os\n",
    "from multiprocessing import set_start_method\n",
    "# set_start_method(\"forkserver\")\n",
    "\n",
    "os.environ[\"OMP_NUM_THREADS\"] = \"8\""
   ]
  },
  {
   "cell_type": "code",
   "execution_count": null,
   "metadata": {},
   "outputs": [],
   "source": []
  },
  {
   "cell_type": "code",
   "execution_count": 81,
   "metadata": {},
   "outputs": [
    {
     "name": "stdout",
     "output_type": "stream",
     "text": [
      "[0]\ttrain-rmse:5.89078\tvalid-rmse:5.88947\n",
      "Multiple eval metrics have been passed: 'valid-rmse' will be used for early stopping.\n",
      "\n",
      "Will train until valid-rmse hasn't improved in 40 rounds.\n",
      "[20]\ttrain-rmse:3.94597\tvalid-rmse:3.94503\n",
      "[40]\ttrain-rmse:2.65115\tvalid-rmse:2.65054\n",
      "[60]\ttrain-rmse:1.79247\tvalid-rmse:1.79232\n",
      "[80]\ttrain-rmse:1.22836\tvalid-rmse:1.22885\n",
      "[100]\ttrain-rmse:0.863586\tvalid-rmse:0.864996\n",
      "[120]\ttrain-rmse:0.634261\tvalid-rmse:0.63698\n",
      "[140]\ttrain-rmse:0.497035\tvalid-rmse:0.501438\n",
      "[160]\ttrain-rmse:0.419621\tvalid-rmse:0.425802\n",
      "[180]\ttrain-rmse:0.378093\tvalid-rmse:0.385979\n",
      "[200]\ttrain-rmse:0.356354\tvalid-rmse:0.365796\n",
      "[220]\ttrain-rmse:0.344357\tvalid-rmse:0.355197\n",
      "[240]\ttrain-rmse:0.337396\tvalid-rmse:0.349604\n",
      "[260]\ttrain-rmse:0.332929\tvalid-rmse:0.346552\n",
      "[280]\ttrain-rmse:0.329217\tvalid-rmse:0.344128\n",
      "[300]\ttrain-rmse:0.326407\tvalid-rmse:0.342596\n",
      "[320]\ttrain-rmse:0.324252\tvalid-rmse:0.341484\n",
      "[340]\ttrain-rmse:0.321929\tvalid-rmse:0.340308\n",
      "[360]\ttrain-rmse:0.319804\tvalid-rmse:0.339285\n",
      "[380]\ttrain-rmse:0.318003\tvalid-rmse:0.338682\n",
      "[400]\ttrain-rmse:0.316098\tvalid-rmse:0.337968\n",
      "[420]\ttrain-rmse:0.314332\tvalid-rmse:0.337262\n",
      "[440]\ttrain-rmse:0.31277\tvalid-rmse:0.336598\n",
      "[460]\ttrain-rmse:0.311143\tvalid-rmse:0.336012\n",
      "[480]\ttrain-rmse:0.309702\tvalid-rmse:0.335488\n",
      "[500]\ttrain-rmse:0.308255\tvalid-rmse:0.335\n",
      "[520]\ttrain-rmse:0.306999\tvalid-rmse:0.334717\n",
      "[540]\ttrain-rmse:0.305608\tvalid-rmse:0.334269\n",
      "[560]\ttrain-rmse:0.304218\tvalid-rmse:0.33366\n",
      "[580]\ttrain-rmse:0.303338\tvalid-rmse:0.333478\n",
      "[600]\ttrain-rmse:0.302411\tvalid-rmse:0.33317\n",
      "[620]\ttrain-rmse:0.301359\tvalid-rmse:0.332832\n",
      "[640]\ttrain-rmse:0.300138\tvalid-rmse:0.332413\n",
      "[660]\ttrain-rmse:0.299253\tvalid-rmse:0.332182\n",
      "[680]\ttrain-rmse:0.298331\tvalid-rmse:0.331891\n",
      "[700]\ttrain-rmse:0.297571\tvalid-rmse:0.331689\n",
      "[720]\ttrain-rmse:0.296779\tvalid-rmse:0.331472\n",
      "[740]\ttrain-rmse:0.296014\tvalid-rmse:0.331216\n",
      "[760]\ttrain-rmse:0.295324\tvalid-rmse:0.330993\n",
      "[780]\ttrain-rmse:0.294822\tvalid-rmse:0.33089\n",
      "[800]\ttrain-rmse:0.294228\tvalid-rmse:0.330712\n",
      "[820]\ttrain-rmse:0.293688\tvalid-rmse:0.330635\n",
      "[840]\ttrain-rmse:0.293119\tvalid-rmse:0.330475\n",
      "[860]\ttrain-rmse:0.292503\tvalid-rmse:0.330317\n",
      "[880]\ttrain-rmse:0.291827\tvalid-rmse:0.330104\n",
      "[900]\ttrain-rmse:0.291299\tvalid-rmse:0.329942\n",
      "[920]\ttrain-rmse:0.29071\tvalid-rmse:0.329755\n",
      "[940]\ttrain-rmse:0.290239\tvalid-rmse:0.329652\n",
      "[960]\ttrain-rmse:0.28977\tvalid-rmse:0.329616\n",
      "[980]\ttrain-rmse:0.289322\tvalid-rmse:0.32955\n",
      "[1000]\ttrain-rmse:0.288928\tvalid-rmse:0.329458\n",
      "[1020]\ttrain-rmse:0.28829\tvalid-rmse:0.329303\n",
      "[1040]\ttrain-rmse:0.287935\tvalid-rmse:0.329244\n",
      "[1060]\ttrain-rmse:0.287575\tvalid-rmse:0.32918\n",
      "[1080]\ttrain-rmse:0.287188\tvalid-rmse:0.329118\n",
      "[1100]\ttrain-rmse:0.286816\tvalid-rmse:0.329035\n",
      "[1120]\ttrain-rmse:0.286361\tvalid-rmse:0.328931\n",
      "[1140]\ttrain-rmse:0.286045\tvalid-rmse:0.3289\n",
      "[1160]\ttrain-rmse:0.285602\tvalid-rmse:0.328819\n",
      "[1180]\ttrain-rmse:0.285133\tvalid-rmse:0.32866\n",
      "[1200]\ttrain-rmse:0.284625\tvalid-rmse:0.328482\n",
      "[1220]\ttrain-rmse:0.284157\tvalid-rmse:0.328375\n",
      "[1240]\ttrain-rmse:0.283783\tvalid-rmse:0.328293\n",
      "[1260]\ttrain-rmse:0.283377\tvalid-rmse:0.3282\n",
      "[1280]\ttrain-rmse:0.283018\tvalid-rmse:0.32812\n",
      "[1300]\ttrain-rmse:0.282652\tvalid-rmse:0.328037\n",
      "[1320]\ttrain-rmse:0.282315\tvalid-rmse:0.327956\n",
      "[1340]\ttrain-rmse:0.28196\tvalid-rmse:0.327884\n",
      "[1360]\ttrain-rmse:0.281565\tvalid-rmse:0.327823\n",
      "[1380]\ttrain-rmse:0.28119\tvalid-rmse:0.327769\n",
      "[1400]\ttrain-rmse:0.280844\tvalid-rmse:0.327705\n",
      "[1420]\ttrain-rmse:0.280493\tvalid-rmse:0.327668\n",
      "[1440]\ttrain-rmse:0.28013\tvalid-rmse:0.327609\n",
      "[1460]\ttrain-rmse:0.279713\tvalid-rmse:0.327512\n",
      "[1480]\ttrain-rmse:0.279355\tvalid-rmse:0.327433\n",
      "[1500]\ttrain-rmse:0.279013\tvalid-rmse:0.327342\n",
      "[1520]\ttrain-rmse:0.27875\tvalid-rmse:0.327325\n",
      "[1540]\ttrain-rmse:0.278399\tvalid-rmse:0.327224\n",
      "[1560]\ttrain-rmse:0.278062\tvalid-rmse:0.327155\n",
      "[1580]\ttrain-rmse:0.277743\tvalid-rmse:0.327073\n",
      "[1600]\ttrain-rmse:0.277435\tvalid-rmse:0.327019\n",
      "[1620]\ttrain-rmse:0.277132\tvalid-rmse:0.326949\n",
      "[1640]\ttrain-rmse:0.27692\tvalid-rmse:0.326917\n",
      "[1660]\ttrain-rmse:0.276617\tvalid-rmse:0.326874\n",
      "[1680]\ttrain-rmse:0.276356\tvalid-rmse:0.326842\n",
      "[1700]\ttrain-rmse:0.276027\tvalid-rmse:0.326759\n",
      "[1720]\ttrain-rmse:0.275783\tvalid-rmse:0.32673\n",
      "[1740]\ttrain-rmse:0.275492\tvalid-rmse:0.326688\n",
      "[1760]\ttrain-rmse:0.27512\tvalid-rmse:0.326587\n",
      "[1780]\ttrain-rmse:0.27475\tvalid-rmse:0.326512\n",
      "[1800]\ttrain-rmse:0.274344\tvalid-rmse:0.326398\n",
      "[1820]\ttrain-rmse:0.274018\tvalid-rmse:0.326327\n",
      "[1840]\ttrain-rmse:0.273713\tvalid-rmse:0.326245\n",
      "[1860]\ttrain-rmse:0.27348\tvalid-rmse:0.326216\n",
      "[1880]\ttrain-rmse:0.273296\tvalid-rmse:0.326201\n",
      "[1900]\ttrain-rmse:0.273033\tvalid-rmse:0.326179\n",
      "[1920]\ttrain-rmse:0.272714\tvalid-rmse:0.326117\n",
      "[1940]\ttrain-rmse:0.272516\tvalid-rmse:0.326096\n",
      "[1960]\ttrain-rmse:0.272184\tvalid-rmse:0.325999\n",
      "[1980]\ttrain-rmse:0.271894\tvalid-rmse:0.325939\n",
      "[2000]\ttrain-rmse:0.27173\tvalid-rmse:0.325938\n",
      "[2020]\ttrain-rmse:0.271522\tvalid-rmse:0.325914\n",
      "[2040]\ttrain-rmse:0.271215\tvalid-rmse:0.325834\n",
      "[2060]\ttrain-rmse:0.270942\tvalid-rmse:0.325807\n",
      "[2080]\ttrain-rmse:0.270645\tvalid-rmse:0.325754\n",
      "[2100]\ttrain-rmse:0.270434\tvalid-rmse:0.325732\n",
      "[2120]\ttrain-rmse:0.270181\tvalid-rmse:0.325677\n",
      "[2140]\ttrain-rmse:0.269915\tvalid-rmse:0.325611\n",
      "[2160]\ttrain-rmse:0.26961\tvalid-rmse:0.325533\n",
      "[2180]\ttrain-rmse:0.269375\tvalid-rmse:0.325494\n",
      "[2200]\ttrain-rmse:0.269145\tvalid-rmse:0.325463\n",
      "[2220]\ttrain-rmse:0.268904\tvalid-rmse:0.325422\n",
      "[2240]\ttrain-rmse:0.268693\tvalid-rmse:0.325384\n",
      "[2260]\ttrain-rmse:0.268466\tvalid-rmse:0.325365\n",
      "[2280]\ttrain-rmse:0.268258\tvalid-rmse:0.325333\n",
      "[2300]\ttrain-rmse:0.268\tvalid-rmse:0.325283\n",
      "[2320]\ttrain-rmse:0.2678\tvalid-rmse:0.325268\n",
      "[2340]\ttrain-rmse:0.267571\tvalid-rmse:0.325251\n",
      "[2360]\ttrain-rmse:0.267346\tvalid-rmse:0.32522\n",
      "[2380]\ttrain-rmse:0.267147\tvalid-rmse:0.325199\n",
      "[2400]\ttrain-rmse:0.266981\tvalid-rmse:0.325177\n",
      "[2420]\ttrain-rmse:0.26679\tvalid-rmse:0.325165\n",
      "[2440]\ttrain-rmse:0.266585\tvalid-rmse:0.325147\n",
      "[2460]\ttrain-rmse:0.266338\tvalid-rmse:0.325105\n",
      "[2480]\ttrain-rmse:0.266059\tvalid-rmse:0.325047\n",
      "[2500]\ttrain-rmse:0.265844\tvalid-rmse:0.325025\n",
      "[2520]\ttrain-rmse:0.265596\tvalid-rmse:0.324978\n",
      "[2540]\ttrain-rmse:0.265398\tvalid-rmse:0.324975\n",
      "[2560]\ttrain-rmse:0.265179\tvalid-rmse:0.324951\n",
      "[2580]\ttrain-rmse:0.264961\tvalid-rmse:0.324929\n",
      "[2600]\ttrain-rmse:0.264726\tvalid-rmse:0.324887\n",
      "[2620]\ttrain-rmse:0.264373\tvalid-rmse:0.324781\n",
      "[2640]\ttrain-rmse:0.264137\tvalid-rmse:0.324755\n",
      "[2660]\ttrain-rmse:0.263858\tvalid-rmse:0.324694\n",
      "[2680]\ttrain-rmse:0.263647\tvalid-rmse:0.324655\n",
      "[2700]\ttrain-rmse:0.263421\tvalid-rmse:0.324625\n",
      "[2720]\ttrain-rmse:0.263208\tvalid-rmse:0.324587\n",
      "[2740]\ttrain-rmse:0.263018\tvalid-rmse:0.324579\n",
      "[2760]\ttrain-rmse:0.262812\tvalid-rmse:0.324555\n",
      "[2780]\ttrain-rmse:0.26255\tvalid-rmse:0.324496\n",
      "[2800]\ttrain-rmse:0.262287\tvalid-rmse:0.324428\n",
      "[2820]\ttrain-rmse:0.261986\tvalid-rmse:0.324371\n",
      "[2840]\ttrain-rmse:0.26181\tvalid-rmse:0.324347\n",
      "[2860]\ttrain-rmse:0.261633\tvalid-rmse:0.324331\n",
      "[2880]\ttrain-rmse:0.261394\tvalid-rmse:0.324287\n",
      "[2900]\ttrain-rmse:0.261217\tvalid-rmse:0.324274\n",
      "[2920]\ttrain-rmse:0.260936\tvalid-rmse:0.324211\n",
      "[2940]\ttrain-rmse:0.260733\tvalid-rmse:0.324177\n",
      "[2960]\ttrain-rmse:0.260469\tvalid-rmse:0.324111\n",
      "[2980]\ttrain-rmse:0.260258\tvalid-rmse:0.324063\n",
      "[3000]\ttrain-rmse:0.260007\tvalid-rmse:0.324018\n",
      "[3020]\ttrain-rmse:0.259796\tvalid-rmse:0.32398\n",
      "[3040]\ttrain-rmse:0.259602\tvalid-rmse:0.323949\n",
      "[3060]\ttrain-rmse:0.259401\tvalid-rmse:0.323942\n",
      "[3080]\ttrain-rmse:0.259208\tvalid-rmse:0.323906\n",
      "[3100]\ttrain-rmse:0.259057\tvalid-rmse:0.323916\n",
      "[3120]\ttrain-rmse:0.258821\tvalid-rmse:0.323855\n",
      "[3140]\ttrain-rmse:0.258655\tvalid-rmse:0.323842\n",
      "[3160]\ttrain-rmse:0.258424\tvalid-rmse:0.323798\n",
      "[3180]\ttrain-rmse:0.258183\tvalid-rmse:0.323752\n",
      "[3200]\ttrain-rmse:0.257951\tvalid-rmse:0.323712\n",
      "[3220]\ttrain-rmse:0.257777\tvalid-rmse:0.323692\n",
      "[3240]\ttrain-rmse:0.257577\tvalid-rmse:0.323663\n",
      "[3260]\ttrain-rmse:0.257407\tvalid-rmse:0.323651\n",
      "[3280]\ttrain-rmse:0.257219\tvalid-rmse:0.32362\n",
      "[3300]\ttrain-rmse:0.257044\tvalid-rmse:0.323611\n",
      "[3320]\ttrain-rmse:0.256846\tvalid-rmse:0.323582\n",
      "[3340]\ttrain-rmse:0.256688\tvalid-rmse:0.323564\n",
      "[3360]\ttrain-rmse:0.256496\tvalid-rmse:0.323527\n",
      "[3380]\ttrain-rmse:0.256235\tvalid-rmse:0.32349\n",
      "[3400]\ttrain-rmse:0.256029\tvalid-rmse:0.323447\n",
      "[3420]\ttrain-rmse:0.255842\tvalid-rmse:0.32342\n",
      "[3440]\ttrain-rmse:0.255677\tvalid-rmse:0.323399\n",
      "[3460]\ttrain-rmse:0.255444\tvalid-rmse:0.323367\n",
      "[3480]\ttrain-rmse:0.255211\tvalid-rmse:0.323325\n",
      "[3500]\ttrain-rmse:0.254985\tvalid-rmse:0.32328\n",
      "[3520]\ttrain-rmse:0.25483\tvalid-rmse:0.323273\n",
      "[3540]\ttrain-rmse:0.254656\tvalid-rmse:0.323248\n",
      "[3560]\ttrain-rmse:0.254476\tvalid-rmse:0.323224\n",
      "[3580]\ttrain-rmse:0.254326\tvalid-rmse:0.323213\n",
      "[3600]\ttrain-rmse:0.254173\tvalid-rmse:0.323204\n",
      "[3620]\ttrain-rmse:0.254\tvalid-rmse:0.323188\n",
      "[3640]\ttrain-rmse:0.253813\tvalid-rmse:0.323158\n",
      "[3660]\ttrain-rmse:0.253637\tvalid-rmse:0.323142\n",
      "[3680]\ttrain-rmse:0.253455\tvalid-rmse:0.323111\n",
      "[3700]\ttrain-rmse:0.253262\tvalid-rmse:0.323089\n",
      "[3720]\ttrain-rmse:0.253039\tvalid-rmse:0.323057\n",
      "[3740]\ttrain-rmse:0.25293\tvalid-rmse:0.32305\n",
      "[3760]\ttrain-rmse:0.252754\tvalid-rmse:0.323032\n",
      "[3780]\ttrain-rmse:0.252557\tvalid-rmse:0.32301\n",
      "[3800]\ttrain-rmse:0.252377\tvalid-rmse:0.322986\n",
      "[3820]\ttrain-rmse:0.25219\tvalid-rmse:0.322969\n",
      "[3840]\ttrain-rmse:0.252054\tvalid-rmse:0.322962\n",
      "[3860]\ttrain-rmse:0.251872\tvalid-rmse:0.322932\n",
      "[3880]\ttrain-rmse:0.251685\tvalid-rmse:0.322899\n",
      "[3900]\ttrain-rmse:0.251525\tvalid-rmse:0.322896\n",
      "[3920]\ttrain-rmse:0.251346\tvalid-rmse:0.322877\n",
      "[3940]\ttrain-rmse:0.251196\tvalid-rmse:0.322852\n",
      "[3960]\ttrain-rmse:0.251018\tvalid-rmse:0.322829\n",
      "[3980]\ttrain-rmse:0.250849\tvalid-rmse:0.322807\n",
      "[4000]\ttrain-rmse:0.250658\tvalid-rmse:0.322776\n",
      "[4020]\ttrain-rmse:0.250472\tvalid-rmse:0.32274\n",
      "[4040]\ttrain-rmse:0.250313\tvalid-rmse:0.322714\n",
      "[4060]\ttrain-rmse:0.250115\tvalid-rmse:0.322674\n",
      "[4080]\ttrain-rmse:0.249943\tvalid-rmse:0.322663\n",
      "[4100]\ttrain-rmse:0.249788\tvalid-rmse:0.322648\n",
      "[4120]\ttrain-rmse:0.249654\tvalid-rmse:0.322632\n",
      "[4140]\ttrain-rmse:0.249509\tvalid-rmse:0.322618\n",
      "[4160]\ttrain-rmse:0.24935\tvalid-rmse:0.322591\n",
      "[4180]\ttrain-rmse:0.249182\tvalid-rmse:0.32257\n",
      "[4200]\ttrain-rmse:0.249001\tvalid-rmse:0.322544\n",
      "[4220]\ttrain-rmse:0.248865\tvalid-rmse:0.322536\n",
      "[4240]\ttrain-rmse:0.248652\tvalid-rmse:0.322527\n",
      "[4260]\ttrain-rmse:0.248512\tvalid-rmse:0.322515\n",
      "[4280]\ttrain-rmse:0.248294\tvalid-rmse:0.322464\n",
      "[4300]\ttrain-rmse:0.248131\tvalid-rmse:0.322447\n",
      "[4320]\ttrain-rmse:0.247935\tvalid-rmse:0.322419\n",
      "[4340]\ttrain-rmse:0.247756\tvalid-rmse:0.322399\n",
      "[4360]\ttrain-rmse:0.247612\tvalid-rmse:0.322391\n",
      "[4380]\ttrain-rmse:0.247445\tvalid-rmse:0.322365\n",
      "[4400]\ttrain-rmse:0.24728\tvalid-rmse:0.322345\n",
      "[4420]\ttrain-rmse:0.247137\tvalid-rmse:0.322332\n",
      "[4440]\ttrain-rmse:0.246988\tvalid-rmse:0.322323\n",
      "[4460]\ttrain-rmse:0.246791\tvalid-rmse:0.32229\n",
      "[4480]\ttrain-rmse:0.246614\tvalid-rmse:0.322273\n",
      "[4500]\ttrain-rmse:0.246425\tvalid-rmse:0.322245\n",
      "[4520]\ttrain-rmse:0.246278\tvalid-rmse:0.322227\n",
      "[4540]\ttrain-rmse:0.246135\tvalid-rmse:0.322212\n",
      "[4560]\ttrain-rmse:0.245945\tvalid-rmse:0.322193\n",
      "[4580]\ttrain-rmse:0.245785\tvalid-rmse:0.322177\n",
      "[4600]\ttrain-rmse:0.24563\tvalid-rmse:0.322166\n",
      "[4620]\ttrain-rmse:0.245453\tvalid-rmse:0.322145\n",
      "[4640]\ttrain-rmse:0.2453\tvalid-rmse:0.322133\n",
      "[4660]\ttrain-rmse:0.245176\tvalid-rmse:0.322121\n",
      "[4680]\ttrain-rmse:0.245019\tvalid-rmse:0.322115\n",
      "[4700]\ttrain-rmse:0.244884\tvalid-rmse:0.322109\n",
      "[4720]\ttrain-rmse:0.24472\tvalid-rmse:0.322091\n",
      "[4740]\ttrain-rmse:0.244563\tvalid-rmse:0.322064\n",
      "[4760]\ttrain-rmse:0.244409\tvalid-rmse:0.322048\n",
      "[4780]\ttrain-rmse:0.244218\tvalid-rmse:0.322007\n",
      "[4800]\ttrain-rmse:0.244061\tvalid-rmse:0.321987\n",
      "[4820]\ttrain-rmse:0.243891\tvalid-rmse:0.321969\n",
      "[4840]\ttrain-rmse:0.243752\tvalid-rmse:0.321956\n",
      "[4860]\ttrain-rmse:0.243598\tvalid-rmse:0.321939\n",
      "[4880]\ttrain-rmse:0.243447\tvalid-rmse:0.321922\n",
      "[4900]\ttrain-rmse:0.243291\tvalid-rmse:0.321906\n",
      "[4920]\ttrain-rmse:0.243141\tvalid-rmse:0.321885\n",
      "[4940]\ttrain-rmse:0.24299\tvalid-rmse:0.321867\n",
      "[4960]\ttrain-rmse:0.242817\tvalid-rmse:0.32185\n",
      "[4980]\ttrain-rmse:0.242714\tvalid-rmse:0.321848\n",
      "[5000]\ttrain-rmse:0.242608\tvalid-rmse:0.321843\n",
      "[5020]\ttrain-rmse:0.242508\tvalid-rmse:0.321841\n",
      "[5040]\ttrain-rmse:0.242385\tvalid-rmse:0.321828\n",
      "[5060]\ttrain-rmse:0.242209\tvalid-rmse:0.321811\n",
      "[5080]\ttrain-rmse:0.242055\tvalid-rmse:0.321804\n",
      "[5100]\ttrain-rmse:0.241924\tvalid-rmse:0.321788\n",
      "[5120]\ttrain-rmse:0.241776\tvalid-rmse:0.321767\n",
      "[5140]\ttrain-rmse:0.241648\tvalid-rmse:0.321758\n",
      "[5160]\ttrain-rmse:0.241526\tvalid-rmse:0.32175\n",
      "[5180]\ttrain-rmse:0.241362\tvalid-rmse:0.321734\n",
      "[5200]\ttrain-rmse:0.241252\tvalid-rmse:0.321728\n",
      "[5220]\ttrain-rmse:0.241043\tvalid-rmse:0.321697\n",
      "[5240]\ttrain-rmse:0.240919\tvalid-rmse:0.321695\n",
      "[5260]\ttrain-rmse:0.240791\tvalid-rmse:0.32169\n",
      "[5280]\ttrain-rmse:0.240663\tvalid-rmse:0.32168\n",
      "[5300]\ttrain-rmse:0.240468\tvalid-rmse:0.321635\n",
      "[5320]\ttrain-rmse:0.240312\tvalid-rmse:0.32161\n",
      "[5340]\ttrain-rmse:0.240165\tvalid-rmse:0.321594\n",
      "[5360]\ttrain-rmse:0.240009\tvalid-rmse:0.32157\n",
      "[5380]\ttrain-rmse:0.239861\tvalid-rmse:0.321552\n",
      "[5400]\ttrain-rmse:0.23976\tvalid-rmse:0.321544\n",
      "[5420]\ttrain-rmse:0.239617\tvalid-rmse:0.321524\n",
      "[5440]\ttrain-rmse:0.239482\tvalid-rmse:0.32151\n",
      "[5460]\ttrain-rmse:0.239336\tvalid-rmse:0.321491\n",
      "[5480]\ttrain-rmse:0.239216\tvalid-rmse:0.321479\n",
      "[5500]\ttrain-rmse:0.239077\tvalid-rmse:0.321467\n",
      "[5520]\ttrain-rmse:0.238954\tvalid-rmse:0.32146\n",
      "[5540]\ttrain-rmse:0.238804\tvalid-rmse:0.321447\n",
      "[5560]\ttrain-rmse:0.238657\tvalid-rmse:0.32144\n",
      "[5580]\ttrain-rmse:0.238522\tvalid-rmse:0.321426\n",
      "[5600]\ttrain-rmse:0.238351\tvalid-rmse:0.321411\n",
      "[5620]\ttrain-rmse:0.238233\tvalid-rmse:0.321397\n",
      "[5640]\ttrain-rmse:0.238105\tvalid-rmse:0.321385\n",
      "[5660]\ttrain-rmse:0.237937\tvalid-rmse:0.321358\n",
      "[5680]\ttrain-rmse:0.237777\tvalid-rmse:0.321338\n",
      "[5700]\ttrain-rmse:0.237671\tvalid-rmse:0.321333\n",
      "[5720]\ttrain-rmse:0.237532\tvalid-rmse:0.321321\n",
      "[5740]\ttrain-rmse:0.237382\tvalid-rmse:0.321297\n",
      "[5760]\ttrain-rmse:0.237243\tvalid-rmse:0.321287\n",
      "[5780]\ttrain-rmse:0.237099\tvalid-rmse:0.321283\n",
      "[5800]\ttrain-rmse:0.236972\tvalid-rmse:0.321271\n",
      "[5820]\ttrain-rmse:0.236846\tvalid-rmse:0.321257\n",
      "[5840]\ttrain-rmse:0.236707\tvalid-rmse:0.321233\n",
      "[5860]\ttrain-rmse:0.236575\tvalid-rmse:0.321226\n",
      "[5880]\ttrain-rmse:0.236418\tvalid-rmse:0.321208\n",
      "[5900]\ttrain-rmse:0.236274\tvalid-rmse:0.321192\n",
      "[5920]\ttrain-rmse:0.236122\tvalid-rmse:0.321174\n",
      "[5940]\ttrain-rmse:0.235991\tvalid-rmse:0.321159\n",
      "[5960]\ttrain-rmse:0.235828\tvalid-rmse:0.32115\n",
      "[5980]\ttrain-rmse:0.235705\tvalid-rmse:0.321136\n",
      "[6000]\ttrain-rmse:0.235573\tvalid-rmse:0.321128\n",
      "[6020]\ttrain-rmse:0.235468\tvalid-rmse:0.321122\n",
      "[6040]\ttrain-rmse:0.235345\tvalid-rmse:0.321111\n",
      "[6060]\ttrain-rmse:0.235205\tvalid-rmse:0.3211\n",
      "[6080]\ttrain-rmse:0.235078\tvalid-rmse:0.321098\n",
      "[6100]\ttrain-rmse:0.234921\tvalid-rmse:0.321078\n",
      "[6120]\ttrain-rmse:0.234774\tvalid-rmse:0.321057\n",
      "[6140]\ttrain-rmse:0.234626\tvalid-rmse:0.32104\n",
      "[6160]\ttrain-rmse:0.234486\tvalid-rmse:0.321021\n",
      "[6180]\ttrain-rmse:0.234339\tvalid-rmse:0.321011\n",
      "[6200]\ttrain-rmse:0.234232\tvalid-rmse:0.321006\n",
      "[6220]\ttrain-rmse:0.234103\tvalid-rmse:0.320993\n",
      "[6240]\ttrain-rmse:0.233957\tvalid-rmse:0.320975\n",
      "[6260]\ttrain-rmse:0.233834\tvalid-rmse:0.32097\n",
      "[6280]\ttrain-rmse:0.233717\tvalid-rmse:0.320965\n",
      "[6300]\ttrain-rmse:0.233567\tvalid-rmse:0.320949\n",
      "[6320]\ttrain-rmse:0.23345\tvalid-rmse:0.32094\n",
      "[6340]\ttrain-rmse:0.233316\tvalid-rmse:0.320927\n",
      "[6360]\ttrain-rmse:0.233205\tvalid-rmse:0.320921\n",
      "[6380]\ttrain-rmse:0.233099\tvalid-rmse:0.320917\n",
      "[6400]\ttrain-rmse:0.232916\tvalid-rmse:0.320884\n",
      "[6420]\ttrain-rmse:0.2328\tvalid-rmse:0.320877\n",
      "[6440]\ttrain-rmse:0.232693\tvalid-rmse:0.320872\n",
      "[6460]\ttrain-rmse:0.232573\tvalid-rmse:0.320859\n",
      "[6480]\ttrain-rmse:0.232438\tvalid-rmse:0.320847\n",
      "[6500]\ttrain-rmse:0.232315\tvalid-rmse:0.320836\n",
      "[6520]\ttrain-rmse:0.232185\tvalid-rmse:0.320824\n",
      "[6540]\ttrain-rmse:0.232033\tvalid-rmse:0.320804\n",
      "[6560]\ttrain-rmse:0.231904\tvalid-rmse:0.320794\n",
      "[6580]\ttrain-rmse:0.231773\tvalid-rmse:0.320787\n",
      "[6600]\ttrain-rmse:0.231646\tvalid-rmse:0.320775\n",
      "[6620]\ttrain-rmse:0.231544\tvalid-rmse:0.320774\n",
      "[6640]\ttrain-rmse:0.231417\tvalid-rmse:0.320762\n",
      "[6660]\ttrain-rmse:0.231274\tvalid-rmse:0.320744\n",
      "[6680]\ttrain-rmse:0.23116\tvalid-rmse:0.32073\n",
      "[6700]\ttrain-rmse:0.231059\tvalid-rmse:0.320732\n",
      "[6720]\ttrain-rmse:0.230914\tvalid-rmse:0.320712\n",
      "[6740]\ttrain-rmse:0.230786\tvalid-rmse:0.320703\n",
      "[6760]\ttrain-rmse:0.230671\tvalid-rmse:0.320696\n",
      "[6780]\ttrain-rmse:0.23059\tvalid-rmse:0.320695\n",
      "[6800]\ttrain-rmse:0.230486\tvalid-rmse:0.320688\n",
      "[6820]\ttrain-rmse:0.23035\tvalid-rmse:0.320676\n",
      "[6840]\ttrain-rmse:0.230215\tvalid-rmse:0.320658\n",
      "[6860]\ttrain-rmse:0.230102\tvalid-rmse:0.320652\n",
      "[6880]\ttrain-rmse:0.229992\tvalid-rmse:0.320647\n",
      "[6900]\ttrain-rmse:0.22984\tvalid-rmse:0.320641\n",
      "[6920]\ttrain-rmse:0.229693\tvalid-rmse:0.320625\n",
      "[6940]\ttrain-rmse:0.229571\tvalid-rmse:0.320612\n",
      "[6960]\ttrain-rmse:0.229482\tvalid-rmse:0.320611\n",
      "[6980]\ttrain-rmse:0.229382\tvalid-rmse:0.320607\n",
      "[7000]\ttrain-rmse:0.229287\tvalid-rmse:0.3206\n",
      "[7020]\ttrain-rmse:0.229171\tvalid-rmse:0.320593\n",
      "[7040]\ttrain-rmse:0.229065\tvalid-rmse:0.32059\n",
      "[7060]\ttrain-rmse:0.228958\tvalid-rmse:0.320582\n",
      "[7080]\ttrain-rmse:0.22883\tvalid-rmse:0.320561\n",
      "[7100]\ttrain-rmse:0.228719\tvalid-rmse:0.320555\n",
      "[7120]\ttrain-rmse:0.228579\tvalid-rmse:0.320548\n",
      "[7140]\ttrain-rmse:0.228461\tvalid-rmse:0.320541\n",
      "[7160]\ttrain-rmse:0.228326\tvalid-rmse:0.320532\n",
      "[7180]\ttrain-rmse:0.228225\tvalid-rmse:0.320525\n",
      "[7200]\ttrain-rmse:0.228091\tvalid-rmse:0.320518\n",
      "[7220]\ttrain-rmse:0.227947\tvalid-rmse:0.320516\n",
      "[7240]\ttrain-rmse:0.227841\tvalid-rmse:0.320514\n",
      "[7260]\ttrain-rmse:0.227684\tvalid-rmse:0.320502\n",
      "[7280]\ttrain-rmse:0.227593\tvalid-rmse:0.320501\n",
      "[7300]\ttrain-rmse:0.227486\tvalid-rmse:0.320493\n",
      "[7320]\ttrain-rmse:0.227382\tvalid-rmse:0.32049\n",
      "[7340]\ttrain-rmse:0.227249\tvalid-rmse:0.320467\n",
      "[7360]\ttrain-rmse:0.227134\tvalid-rmse:0.320458\n",
      "[7380]\ttrain-rmse:0.227014\tvalid-rmse:0.320442\n",
      "[7400]\ttrain-rmse:0.226912\tvalid-rmse:0.320432\n",
      "[7420]\ttrain-rmse:0.22677\tvalid-rmse:0.320421\n",
      "[7440]\ttrain-rmse:0.226652\tvalid-rmse:0.320411\n",
      "[7460]\ttrain-rmse:0.22654\tvalid-rmse:0.320403\n",
      "[7480]\ttrain-rmse:0.226417\tvalid-rmse:0.320394\n",
      "[7500]\ttrain-rmse:0.226311\tvalid-rmse:0.320386\n",
      "[7520]\ttrain-rmse:0.226212\tvalid-rmse:0.320383\n",
      "[7540]\ttrain-rmse:0.226094\tvalid-rmse:0.320375\n",
      "[7560]\ttrain-rmse:0.225974\tvalid-rmse:0.320365\n",
      "[7580]\ttrain-rmse:0.225871\tvalid-rmse:0.320364\n",
      "[7600]\ttrain-rmse:0.225759\tvalid-rmse:0.320357\n",
      "[7620]\ttrain-rmse:0.225673\tvalid-rmse:0.32036\n",
      "Stopping. Best iteration:\n",
      "[7593]\ttrain-rmse:0.225782\tvalid-rmse:0.320356\n",
      "\n",
      " ===> Modeling RMSLE 0.32036\n",
      "[0]\ttrain-rmse:5.77121\tvalid-rmse:5.76992\n",
      "Multiple eval metrics have been passed: 'valid-rmse' will be used for early stopping.\n",
      "\n",
      "Will train until valid-rmse hasn't improved in 40 rounds.\n",
      "[20]\ttrain-rmse:2.57771\tvalid-rmse:2.57712\n",
      "[40]\ttrain-rmse:1.18788\tvalid-rmse:1.18844\n",
      "[60]\ttrain-rmse:0.614613\tvalid-rmse:0.617664\n",
      "[80]\ttrain-rmse:0.41236\tvalid-rmse:0.419045\n",
      "[100]\ttrain-rmse:0.354276\tvalid-rmse:0.363931\n",
      "[120]\ttrain-rmse:0.336409\tvalid-rmse:0.348861\n",
      "[140]\ttrain-rmse:0.328904\tvalid-rmse:0.343935\n",
      "[160]\ttrain-rmse:0.323838\tvalid-rmse:0.341386\n",
      "[180]\ttrain-rmse:0.319938\tvalid-rmse:0.339812\n",
      "[200]\ttrain-rmse:0.316264\tvalid-rmse:0.338335\n",
      "[220]\ttrain-rmse:0.313198\tvalid-rmse:0.336964\n",
      "[240]\ttrain-rmse:0.310526\tvalid-rmse:0.336202\n",
      "[260]\ttrain-rmse:0.308135\tvalid-rmse:0.335595\n",
      "[280]\ttrain-rmse:0.305504\tvalid-rmse:0.334518\n",
      "[300]\ttrain-rmse:0.303282\tvalid-rmse:0.333799\n",
      "[320]\ttrain-rmse:0.301589\tvalid-rmse:0.333379\n",
      "[340]\ttrain-rmse:0.29989\tvalid-rmse:0.332787\n",
      "[360]\ttrain-rmse:0.298205\tvalid-rmse:0.332265\n",
      "[380]\ttrain-rmse:0.296985\tvalid-rmse:0.331977\n",
      "[400]\ttrain-rmse:0.295544\tvalid-rmse:0.331607\n",
      "[420]\ttrain-rmse:0.294234\tvalid-rmse:0.331217\n",
      "[440]\ttrain-rmse:0.292981\tvalid-rmse:0.330852\n",
      "[460]\ttrain-rmse:0.291891\tvalid-rmse:0.330584\n",
      "[480]\ttrain-rmse:0.290966\tvalid-rmse:0.330422\n",
      "[500]\ttrain-rmse:0.289853\tvalid-rmse:0.33018\n",
      "[520]\ttrain-rmse:0.289051\tvalid-rmse:0.329996\n",
      "[540]\ttrain-rmse:0.288156\tvalid-rmse:0.329795\n",
      "[560]\ttrain-rmse:0.287453\tvalid-rmse:0.329629\n",
      "[580]\ttrain-rmse:0.286668\tvalid-rmse:0.329503\n",
      "[600]\ttrain-rmse:0.285808\tvalid-rmse:0.329328\n",
      "[620]\ttrain-rmse:0.284911\tvalid-rmse:0.329087\n",
      "[640]\ttrain-rmse:0.28385\tvalid-rmse:0.32882\n",
      "[660]\ttrain-rmse:0.283228\tvalid-rmse:0.328699\n",
      "[680]\ttrain-rmse:0.282518\tvalid-rmse:0.328572\n",
      "[700]\ttrain-rmse:0.281698\tvalid-rmse:0.328414\n",
      "[720]\ttrain-rmse:0.280879\tvalid-rmse:0.328287\n",
      "[740]\ttrain-rmse:0.280065\tvalid-rmse:0.32813\n",
      "[760]\ttrain-rmse:0.279397\tvalid-rmse:0.327975\n",
      "[780]\ttrain-rmse:0.278881\tvalid-rmse:0.327907\n",
      "[800]\ttrain-rmse:0.278236\tvalid-rmse:0.327769\n",
      "[820]\ttrain-rmse:0.277608\tvalid-rmse:0.327702\n",
      "[840]\ttrain-rmse:0.277024\tvalid-rmse:0.327607\n",
      "[860]\ttrain-rmse:0.276492\tvalid-rmse:0.327573\n",
      "[880]\ttrain-rmse:0.275802\tvalid-rmse:0.327371\n",
      "[900]\ttrain-rmse:0.275158\tvalid-rmse:0.327256\n",
      "[920]\ttrain-rmse:0.274621\tvalid-rmse:0.32712\n",
      "[940]\ttrain-rmse:0.274194\tvalid-rmse:0.327076\n",
      "[960]\ttrain-rmse:0.273651\tvalid-rmse:0.327021\n",
      "[980]\ttrain-rmse:0.273146\tvalid-rmse:0.326967\n",
      "[1000]\ttrain-rmse:0.27276\tvalid-rmse:0.326947\n",
      "[1020]\ttrain-rmse:0.272196\tvalid-rmse:0.326862\n",
      "[1040]\ttrain-rmse:0.271687\tvalid-rmse:0.326778\n",
      "[1060]\ttrain-rmse:0.271108\tvalid-rmse:0.326684\n",
      "[1080]\ttrain-rmse:0.270634\tvalid-rmse:0.326644\n",
      "[1100]\ttrain-rmse:0.26997\tvalid-rmse:0.326508\n",
      "[1120]\ttrain-rmse:0.269399\tvalid-rmse:0.326385\n",
      "[1140]\ttrain-rmse:0.26891\tvalid-rmse:0.326285\n",
      "[1160]\ttrain-rmse:0.268397\tvalid-rmse:0.326229\n",
      "[1180]\ttrain-rmse:0.267868\tvalid-rmse:0.326094\n",
      "[1200]\ttrain-rmse:0.267444\tvalid-rmse:0.326006\n",
      "[1220]\ttrain-rmse:0.266913\tvalid-rmse:0.325938\n",
      "[1240]\ttrain-rmse:0.26625\tvalid-rmse:0.325769\n",
      "[1260]\ttrain-rmse:0.265838\tvalid-rmse:0.32571\n",
      "[1280]\ttrain-rmse:0.265376\tvalid-rmse:0.325599\n",
      "[1300]\ttrain-rmse:0.264928\tvalid-rmse:0.325556\n",
      "[1320]\ttrain-rmse:0.264509\tvalid-rmse:0.325512\n",
      "[1340]\ttrain-rmse:0.264134\tvalid-rmse:0.325465\n",
      "[1360]\ttrain-rmse:0.263643\tvalid-rmse:0.325407\n",
      "[1380]\ttrain-rmse:0.263117\tvalid-rmse:0.325321\n",
      "[1400]\ttrain-rmse:0.262673\tvalid-rmse:0.325268\n",
      "[1420]\ttrain-rmse:0.262198\tvalid-rmse:0.325208\n",
      "[1440]\ttrain-rmse:0.261768\tvalid-rmse:0.325144\n",
      "[1460]\ttrain-rmse:0.261198\tvalid-rmse:0.32502\n",
      "[1480]\ttrain-rmse:0.260774\tvalid-rmse:0.324956\n",
      "[1500]\ttrain-rmse:0.26036\tvalid-rmse:0.324871\n",
      "[1520]\ttrain-rmse:0.259961\tvalid-rmse:0.32483\n",
      "[1540]\ttrain-rmse:0.259515\tvalid-rmse:0.324747\n",
      "[1560]\ttrain-rmse:0.259112\tvalid-rmse:0.32467\n"
     ]
    },
    {
     "ename": "KeyboardInterrupt",
     "evalue": "",
     "output_type": "error",
     "traceback": [
      "\u001b[0;31m---------------------------------------------------------------------------\u001b[0m",
      "\u001b[0;31mKeyboardInterrupt\u001b[0m                         Traceback (most recent call last)",
      "\u001b[0;32m<ipython-input-81-556b55b1c70e>\u001b[0m in \u001b[0;36m<module>\u001b[0;34m\u001b[0m\n\u001b[1;32m      9\u001b[0m         \u001b[0mearly_stopping_rounds\u001b[0m\u001b[0;34m=\u001b[0m\u001b[0;36m40\u001b[0m\u001b[0;34m,\u001b[0m\u001b[0;34m\u001b[0m\u001b[0;34m\u001b[0m\u001b[0m\n\u001b[1;32m     10\u001b[0m         \u001b[0mmaximize\u001b[0m\u001b[0;34m=\u001b[0m\u001b[0;32mFalse\u001b[0m\u001b[0;34m,\u001b[0m\u001b[0;34m\u001b[0m\u001b[0;34m\u001b[0m\u001b[0m\n\u001b[0;32m---> 11\u001b[0;31m         \u001b[0mverbose_eval\u001b[0m\u001b[0;34m=\u001b[0m\u001b[0;36m20\u001b[0m\u001b[0;34m\u001b[0m\u001b[0;34m\u001b[0m\u001b[0m\n\u001b[0m\u001b[1;32m     12\u001b[0m     )\n\u001b[1;32m     13\u001b[0m     \u001b[0mprint\u001b[0m\u001b[0;34m(\u001b[0m\u001b[0;34m' ===> Modeling RMSLE %.5f'\u001b[0m \u001b[0;34m%\u001b[0m \u001b[0mmodel\u001b[0m\u001b[0;34m.\u001b[0m\u001b[0mbest_score\u001b[0m\u001b[0;34m)\u001b[0m\u001b[0;34m\u001b[0m\u001b[0;34m\u001b[0m\u001b[0m\n",
      "\u001b[0;32m/usr/local/lib/python3.7/site-packages/xgboost/training.py\u001b[0m in \u001b[0;36mtrain\u001b[0;34m(params, dtrain, num_boost_round, evals, obj, feval, maximize, early_stopping_rounds, evals_result, verbose_eval, xgb_model, callbacks, learning_rates)\u001b[0m\n\u001b[1;32m    214\u001b[0m                            \u001b[0mevals\u001b[0m\u001b[0;34m=\u001b[0m\u001b[0mevals\u001b[0m\u001b[0;34m,\u001b[0m\u001b[0;34m\u001b[0m\u001b[0;34m\u001b[0m\u001b[0m\n\u001b[1;32m    215\u001b[0m                            \u001b[0mobj\u001b[0m\u001b[0;34m=\u001b[0m\u001b[0mobj\u001b[0m\u001b[0;34m,\u001b[0m \u001b[0mfeval\u001b[0m\u001b[0;34m=\u001b[0m\u001b[0mfeval\u001b[0m\u001b[0;34m,\u001b[0m\u001b[0;34m\u001b[0m\u001b[0;34m\u001b[0m\u001b[0m\n\u001b[0;32m--> 216\u001b[0;31m                            xgb_model=xgb_model, callbacks=callbacks)\n\u001b[0m\u001b[1;32m    217\u001b[0m \u001b[0;34m\u001b[0m\u001b[0m\n\u001b[1;32m    218\u001b[0m \u001b[0;34m\u001b[0m\u001b[0m\n",
      "\u001b[0;32m/usr/local/lib/python3.7/site-packages/xgboost/training.py\u001b[0m in \u001b[0;36m_train_internal\u001b[0;34m(params, dtrain, num_boost_round, evals, obj, feval, xgb_model, callbacks)\u001b[0m\n\u001b[1;32m     72\u001b[0m         \u001b[0;31m# Skip the first update if it is a recovery step.\u001b[0m\u001b[0;34m\u001b[0m\u001b[0;34m\u001b[0m\u001b[0;34m\u001b[0m\u001b[0m\n\u001b[1;32m     73\u001b[0m         \u001b[0;32mif\u001b[0m \u001b[0mversion\u001b[0m \u001b[0;34m%\u001b[0m \u001b[0;36m2\u001b[0m \u001b[0;34m==\u001b[0m \u001b[0;36m0\u001b[0m\u001b[0;34m:\u001b[0m\u001b[0;34m\u001b[0m\u001b[0;34m\u001b[0m\u001b[0m\n\u001b[0;32m---> 74\u001b[0;31m             \u001b[0mbst\u001b[0m\u001b[0;34m.\u001b[0m\u001b[0mupdate\u001b[0m\u001b[0;34m(\u001b[0m\u001b[0mdtrain\u001b[0m\u001b[0;34m,\u001b[0m \u001b[0mi\u001b[0m\u001b[0;34m,\u001b[0m \u001b[0mobj\u001b[0m\u001b[0;34m)\u001b[0m\u001b[0;34m\u001b[0m\u001b[0;34m\u001b[0m\u001b[0m\n\u001b[0m\u001b[1;32m     75\u001b[0m             \u001b[0mbst\u001b[0m\u001b[0;34m.\u001b[0m\u001b[0msave_rabit_checkpoint\u001b[0m\u001b[0;34m(\u001b[0m\u001b[0;34m)\u001b[0m\u001b[0;34m\u001b[0m\u001b[0;34m\u001b[0m\u001b[0m\n\u001b[1;32m     76\u001b[0m             \u001b[0mversion\u001b[0m \u001b[0;34m+=\u001b[0m \u001b[0;36m1\u001b[0m\u001b[0;34m\u001b[0m\u001b[0;34m\u001b[0m\u001b[0m\n",
      "\u001b[0;32m/usr/local/lib/python3.7/site-packages/xgboost/core.py\u001b[0m in \u001b[0;36mupdate\u001b[0;34m(self, dtrain, iteration, fobj)\u001b[0m\n\u001b[1;32m   1043\u001b[0m         \u001b[0;32mif\u001b[0m \u001b[0mfobj\u001b[0m \u001b[0;32mis\u001b[0m \u001b[0;32mNone\u001b[0m\u001b[0;34m:\u001b[0m\u001b[0;34m\u001b[0m\u001b[0;34m\u001b[0m\u001b[0m\n\u001b[1;32m   1044\u001b[0m             _check_call(_LIB.XGBoosterUpdateOneIter(self.handle, ctypes.c_int(iteration),\n\u001b[0;32m-> 1045\u001b[0;31m                                                     dtrain.handle))\n\u001b[0m\u001b[1;32m   1046\u001b[0m         \u001b[0;32melse\u001b[0m\u001b[0;34m:\u001b[0m\u001b[0;34m\u001b[0m\u001b[0;34m\u001b[0m\u001b[0m\n\u001b[1;32m   1047\u001b[0m             \u001b[0mpred\u001b[0m \u001b[0;34m=\u001b[0m \u001b[0mself\u001b[0m\u001b[0;34m.\u001b[0m\u001b[0mpredict\u001b[0m\u001b[0;34m(\u001b[0m\u001b[0mdtrain\u001b[0m\u001b[0;34m)\u001b[0m\u001b[0;34m\u001b[0m\u001b[0;34m\u001b[0m\u001b[0m\n",
      "\u001b[0;31mKeyboardInterrupt\u001b[0m: "
     ]
    }
   ],
   "source": [
    "scores = {}\n",
    "# for eta in [x / 50 for x in range(1, 50)]:\n",
    "#    xgb_pars['eta'] = eta\n",
    "#    model = xgb.train(\n",
    "#         xgb_pars,\n",
    "#        dtrain,\n",
    "#        num_round,\n",
    "#        evallist,\n",
    "#        early_stopping_rounds=40,\n",
    "#        maximize=False,\n",
    "#        verbose_eval=20\n",
    "#    )\n",
    "#    print(' ===> Modeling RMSLE %.5f' % model.best_score)\n",
    "#    scores[eta] = model.best_score\n",
    "#print(scores)\n",
    "model = xgb.train(\n",
    "    xgb_pars,\n",
    "    dtrain,\n",
    "    num_round,\n",
    "    evallist,\n",
    "    early_stopping_rounds=40,\n",
    "    maximize=False,\n",
    "    verbose_eval=20\n",
    ")"
   ]
  },
  {
   "cell_type": "code",
   "execution_count": 82,
   "metadata": {},
   "outputs": [
    {
     "name": "stdout",
     "output_type": "stream",
     "text": [
      "Modeling RMSLE 0.32036\n"
     ]
    }
   ],
   "source": [
    "print('Modeling RMSLE %.5f' % model.best_score)"
   ]
  },
  {
   "cell_type": "code",
   "execution_count": 84,
   "metadata": {},
   "outputs": [
    {
     "data": {
      "image/png": "[encoded data removed]",
      "text/plain": [
       "<Figure size 1440x576 with 1 Axes>"
      ]
     },
     "metadata": {
      "needs_background": "light"
     },
     "output_type": "display_data"
    }
   ],
   "source": [
    "import matplotlib.pyplot as plt\n",
    "import matplotlib\n",
    "\n",
    "matplotlib.rcParams['figure.figsize'] = (20.0, 8.0)\n",
    "matplotlib.rcParams['font.size'] = 22\n",
    "\n",
    "xgb.plot_importance(model, ax=None, height=0.2, xlim=None,\n",
    "                    ylim=None, title='Feature importance',\n",
    "                    xlabel='F score', ylabel='Features',\n",
    "                    importance_type='weight', max_num_features=None,\n",
    "                    grid=True)\n",
    "plt.show()\n"
   ]
  },
  {
   "cell_type": "code",
   "execution_count": 59,
   "metadata": {},
   "outputs": [],
   "source": [
    "import pickle\n",
    "pickle.dump(model,open('xgb_pred.sav','wb'))"
   ]
  },
  {
   "cell_type": "markdown",
   "metadata": {},
   "source": [
    "# TEST"
   ]
  },
  {
   "cell_type": "code",
   "execution_count": 110,
   "metadata": {},
   "outputs": [],
   "source": [
    "test_dataset = pd.read_csv('data/test.csv')"
   ]
  },
  {
   "cell_type": "code",
   "execution_count": 111,
   "metadata": {},
   "outputs": [
    {
     "data": {
      "text/plain": [
       "Index(['id', 'vendor_id', 'pickup_datetime', 'passenger_count',\n",
       "       'pickup_longitude', 'pickup_latitude', 'dropoff_longitude',\n",
       "       'dropoff_latitude', 'store_and_fwd_flag'],\n",
       "      dtype='object')"
      ]
     },
     "execution_count": 111,
     "metadata": {},
     "output_type": "execute_result"
    }
   ],
   "source": [
    "test_dataset.columns"
   ]
  },
  {
   "cell_type": "code",
   "execution_count": 112,
   "metadata": {},
   "outputs": [],
   "source": [
    "#Latitude and Longitude to cartesian cordindates converesion\n",
    "# Assuming Earth as sphere not ellipsoid \n",
    "def cartesian_x(lat,lon):\n",
    "    lat=np.radians(lat)\n",
    "    lon=np.radians(lon)\n",
    "    R=6371.0\n",
    "    x = R * np.cos(lat) * np.cos(lon)\n",
    "    return x\n",
    "def cartesian_y(lat,lon):\n",
    "    lat=np.radians(lat)\n",
    "    lon=np.radians(lon)\n",
    "    R=6371.0\n",
    "    y = R * np.cos(lat) * np.sin(lon)\n",
    "    return y\n",
    "# extracting cartesian x,y cordinates form latitude and longitude\n",
    "test_dataset['x1']=[cartesian_x(i,j) for i,j in zip(test_dataset['pickup_latitude'],test_dataset['pickup_longitude'])]\n",
    "test_dataset['y1']=[cartesian_y(i,j) for i,j in zip(test_dataset['pickup_latitude'],test_dataset['pickup_longitude'])]\n",
    "test_dataset['x2']=[cartesian_x(i,j) for i,j in zip(test_dataset['dropoff_latitude'],test_dataset['dropoff_longitude'])]\n",
    "test_dataset['y2']=[cartesian_y(i,j) for i,j in zip(test_dataset['dropoff_latitude'],test_dataset['dropoff_longitude'])]"
   ]
  },
  {
   "cell_type": "code",
   "execution_count": 113,
   "metadata": {},
   "outputs": [],
   "source": [
    "def euclidean_distance(a1,b1,a2,b2):\n",
    "    dist=np.sqrt((a2-a1)**2+(b2-b1)**2)\n",
    "    return dist\n",
    "    \n",
    "test_dataset['distance1']=[euclidean_distance(i,j,k,l) for i,j,k,l in zip(test_dataset['x1'], \n",
    "                                                                          test_dataset['y1'],\n",
    "                                                                          test_dataset['x2'], \n",
    "                                                                          test_dataset['y2'])]\n",
    "\n",
    "test_dataset['logdistance1']=np.log(test_dataset['distance1']+1)"
   ]
  },
  {
   "cell_type": "code",
   "execution_count": 114,
   "metadata": {},
   "outputs": [],
   "source": [
    "def create_distance1(df):\n",
    "    \n",
    "    #Haversine distance already in the file\n",
    "    df['havers_dist'] = df.apply(lambda x: haversine(\n",
    "        (x['pickup_latitude'], x['pickup_longitude']),\n",
    "        (x['dropoff_latitude'], x['dropoff_longitude'])), axis=1)\n",
    "    \n",
    "    #Manhattan distance\n",
    "    df['Manhattan_dist']=[min(abs(i-j),abs(k-l)) for i,j,k,l in zip(df['x1'],df['y1'],df['x2'],df['y2'])]\n",
    "    \n",
    "    #Chebyshev distance\n",
    "    df['Chebyshev_dist']=[max(abs(i-j),abs(k-l)) for i,j,k,l in zip(df['x1'],df['y1'],df['x2'],df['y2'])]\n",
    "\n",
    "def create_datetime_weekmont(df):\n",
    "    \n",
    "    df['pickup_datetime']=pd.to_datetime(df['pickup_datetime'])\n",
    "    df['pickup_hour'] = df['pickup_datetime'].dt.hour\n",
    "    df['pickup_min'] = df['pickup_datetime'].dt.minute\n",
    "    df['pickup_sec'] = df['pickup_datetime'].dt.second\n",
    "    df['pickup_day'] = df['pickup_datetime'].dt.dayofweek\n",
    "    df['pickup_date'] = df['pickup_datetime'].dt.day\n",
    "    df['pickup_mon'] = df['pickup_datetime'].dt.month"
   ]
  },
  {
   "cell_type": "code",
   "execution_count": 115,
   "metadata": {},
   "outputs": [],
   "source": [
    "create_distance1(test_dataset)\n",
    "create_datetime_weekmont(test_dataset)\n",
    "create_datetime(test_dataset)\n",
    "\n",
    "test_dataset['bearing_direction']=[bearing_heading(i,j,k,l) for i,j,k,l in zip(test_dataset['pickup_latitude'], \n",
    "                                                                       test_dataset['pickup_longitude'],\n",
    "                                                                       test_dataset['dropoff_latitude'], \n",
    "                                                                       test_dataset['dropoff_longitude'])]\n",
    "\n"
   ]
  },
  {
   "cell_type": "code",
   "execution_count": 117,
   "metadata": {},
   "outputs": [
    {
     "name": "stderr",
     "output_type": "stream",
     "text": [
      "/usr/local/lib/python3.7/site-packages/ipykernel_launcher.py:25: SettingWithCopyWarning: \n",
      "A value is trying to be set on a copy of a slice from a DataFrame\n",
      "\n",
      "See the caveats in the documentation: http://pandas.pydata.org/pandas-docs/stable/indexing.html#indexing-view-versus-copy\n",
      "/usr/local/lib/python3.7/site-packages/ipykernel_launcher.py:25: SettingWithCopyWarning: \n",
      "A value is trying to be set on a copy of a slice from a DataFrame\n",
      "\n",
      "See the caveats in the documentation: http://pandas.pydata.org/pandas-docs/stable/indexing.html#indexing-view-versus-copy\n"
     ]
    }
   ],
   "source": [
    "#create_meanspeedhour_list(test)\n",
    "create_meanspeedhour(test_dataset)\n",
    "create_average_duration(test_dataset)"
   ]
  },
  {
   "cell_type": "code",
   "execution_count": 118,
   "metadata": {},
   "outputs": [
    {
     "data": {
      "text/plain": [
       "Index(['id', 'vendor_id', 'pickup_datetime', 'passenger_count',\n",
       "       'pickup_longitude', 'pickup_latitude', 'dropoff_longitude',\n",
       "       'dropoff_latitude', 'store_and_fwd_flag', 'x1', 'y1', 'x2', 'y2',\n",
       "       'distance1', 'logdistance1', 'havers_dist', 'Manhattan_dist',\n",
       "       'Chebyshev_dist', 'pickup_hour', 'pickup_min', 'pickup_sec',\n",
       "       'pickup_day', 'pickup_date', 'pickup_mon', 'pickup_seconds', 'weather',\n",
       "       'quarter', 'mid_latitude', 'mid_longitude', 'night', 'too_late',\n",
       "       'bearing_direction', 'average_speed', 'average_duration'],\n",
       "      dtype='object')"
      ]
     },
     "execution_count": 118,
     "metadata": {},
     "output_type": "execute_result"
    }
   ],
   "source": [
    "test_dataset.columns"
   ]
  },
  {
   "cell_type": "code",
   "execution_count": 126,
   "metadata": {},
   "outputs": [],
   "source": [
    "## drop columns to avoid data type problems in xgboost\n",
    "test=test_dataset.drop(['id',\n",
    "                     # 'vendor_id',\n",
    "                     # 'Unnamed: 0',\n",
    "                     'pickup_datetime',\n",
    "                     # 'dropoff_datetime',\n",
    "                     'store_and_fwd_flag',\n",
    "                     # 'logduration',\n",
    "                     # 'trip_dur_in_hr',\n",
    "                     # 'pickup_DayHour',\n",
    "                     # 'speed',\n",
    "                     'too_late',\n",
    "                     'night',\n",
    "                     'quarter',\n",
    "                     'weather',\n",
    "                    ],1)"
   ]
  },
  {
   "cell_type": "code",
   "execution_count": 127,
   "metadata": {},
   "outputs": [],
   "source": [
    "# test.insert(0, 'Unnamed: 0', range(0, len(test)))"
   ]
  },
  {
   "cell_type": "code",
   "execution_count": 133,
   "metadata": {},
   "outputs": [
    {
     "name": "stdout",
     "output_type": "stream",
     "text": [
      "Index(['vendor_id', 'passenger_count', 'pickup_longitude', 'pickup_latitude',\n",
      "       'dropoff_longitude', 'dropoff_latitude', 'x1', 'y1', 'x2', 'y2',\n",
      "       'distance1', 'logdistance1', 'havers_dist', 'Manhattan_dist',\n",
      "       'Chebyshev_dist', 'pickup_hour', 'pickup_min', 'pickup_sec',\n",
      "       'pickup_day', 'pickup_date', 'pickup_mon', 'pickup_seconds',\n",
      "       'mid_latitude', 'mid_longitude', 'bearing_direction', 'average_speed',\n",
      "       'average_duration'],\n",
      "      dtype='object')\n"
     ]
    },
    {
     "data": {
      "text/plain": [
       "27"
      ]
     },
     "execution_count": 133,
     "metadata": {},
     "output_type": "execute_result"
    }
   ],
   "source": [
    "print(test.columns)\n",
    "len(test.columns)"
   ]
  },
  {
   "cell_type": "code",
   "execution_count": 134,
   "metadata": {},
   "outputs": [
    {
     "name": "stdout",
     "output_type": "stream",
     "text": [
      "Index(['vendor_id', 'passenger_count', 'pickup_longitude', 'pickup_latitude',\n",
      "       'dropoff_longitude', 'dropoff_latitude', 'pickup_hour', 'x1', 'y1',\n",
      "       'x2', 'y2', 'distance1', 'logdistance1', 'havers_dist', 'pickup_min',\n",
      "       'pickup_sec', 'pickup_day', 'pickup_date', 'pickup_mon',\n",
      "       'pickup_seconds', 'mid_latitude', 'mid_longitude', 'Manhattan_dist',\n",
      "       'Chebyshev_dist', 'bearing_direction', 'average_speed',\n",
      "       'average_duration'],\n",
      "      dtype='object')\n"
     ]
    },
    {
     "data": {
      "text/plain": [
       "27"
      ]
     },
     "execution_count": 134,
     "metadata": {},
     "output_type": "execute_result"
    }
   ],
   "source": [
    "print(x.columns)\n",
    "len(x.columns)"
   ]
  },
  {
   "cell_type": "code",
   "execution_count": 136,
   "metadata": {
    "scrolled": true
   },
   "outputs": [],
   "source": [
    "# model=pickle.load(open('xgb_pred.sav','rb'))\n",
    "model = model\n",
    "# dtest = xgb.DMatrix(test[[\n",
    "#        # 'Unnamed: 0',\n",
    "#        'passenger_count', 'pickup_longitude', 'pickup_latitude',\n",
    "#        'dropoff_longitude', 'dropoff_latitude', 'pickup_hour', 'x1', 'y1',\n",
    "#        'x2', 'y2', 'distance1', 'logdistance1', 'havers_dist', 'pickup_min',\n",
    "#        'pickup_sec', 'pickup_day', 'pickup_date', 'pickup_mon',\n",
    "#        'pickup_seconds',\n",
    "#        'vendor_id',\n",
    "#         # 'weather', 'quarter', 'too_late', 'night',\n",
    "#        'mid_latitude', 'mid_longitude',\n",
    "#        'Manhattan_dist', 'Chebyshev_dist',\n",
    "#        'bearing_direction',\n",
    "#        'average_speed', 'average_duration'  \n",
    "# ]])\n",
    "dtest = xgb.DMatrix(test[x.columns])\n",
    "ytest = model.predict(dtest)\n"
   ]
  },
  {
   "cell_type": "code",
   "execution_count": 137,
   "metadata": {},
   "outputs": [
    {
     "data": {
      "text/plain": [
       "array([ 402.4288,  402.4288, 1095.6332,  402.4288, 1095.6332, 1095.6332,\n",
       "       1095.6332, 2979.958 ,  402.4288], dtype=float32)"
      ]
     },
     "execution_count": 137,
     "metadata": {},
     "output_type": "execute_result"
    }
   ],
   "source": [
    "np.exp(np.round(ytest[1:10]))-1"
   ]
  },
  {
   "cell_type": "code",
   "execution_count": 138,
   "metadata": {},
   "outputs": [],
   "source": [
    "test['trip_duration'] = np.round(np.exp(ytest)) - 1"
   ]
  },
  {
   "cell_type": "code",
   "execution_count": 139,
   "metadata": {},
   "outputs": [],
   "source": [
    "test_dataset['trip_duration']=np.round(np.exp(ytest)) - 1"
   ]
  },
  {
   "cell_type": "code",
   "execution_count": 140,
   "metadata": {},
   "outputs": [],
   "source": [
    "test_dataset[['id', 'trip_duration']].to_csv('submission12.csv', index=False)"
   ]
  },
  {
   "cell_type": "code",
   "execution_count": null,
   "metadata": {},
   "outputs": [],
   "source": []
  }
 ],
 "metadata": {
  "kernelspec": {
   "display_name": "Python 3",
   "language": "python",
   "name": "python3"
  },
  "language_info": {
   "codemirror_mode": {
    "name": "ipython",
    "version": 3
   },
   "file_extension": ".py",
   "mimetype": "text/x-python",
   "name": "python",
   "nbconvert_exporter": "python",
   "pygments_lexer": "ipython3",
   "version": "3.7.1"
  }
 },
 "nbformat": 4,
 "nbformat_minor": 2
}
