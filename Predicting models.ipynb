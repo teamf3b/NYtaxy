{
 "cells": [
  {
   "cell_type": "code",
   "execution_count": 1,
   "metadata": {},
   "outputs": [],
   "source": [
    "import pandas as pd\n",
    "import numpy as np\n",
    "#!pip install xgboost\n",
    "import xgboost as xgb\n",
    "from haversine import haversine"
   ]
  },
  {
   "cell_type": "code",
   "execution_count": 2,
   "metadata": {},
   "outputs": [
    {
     "data": {
      "text/html": [
       "<div>\n",
       "<style scoped>\n",
       "    .dataframe tbody tr th:only-of-type {\n",
       "        vertical-align: middle;\n",
       "    }\n",
       "\n",
       "    .dataframe tbody tr th {\n",
       "        vertical-align: top;\n",
       "    }\n",
       "\n",
       "    .dataframe thead th {\n",
       "        text-align: right;\n",
       "    }\n",
       "</style>\n",
       "<table border=\"1\" class=\"dataframe\">\n",
       "  <thead>\n",
       "    <tr style=\"text-align: right;\">\n",
       "      <th></th>\n",
       "      <th>Unnamed: 0</th>\n",
       "      <th>id</th>\n",
       "      <th>vendor_id</th>\n",
       "      <th>pickup_datetime</th>\n",
       "      <th>dropoff_datetime</th>\n",
       "      <th>passenger_count</th>\n",
       "      <th>pickup_longitude</th>\n",
       "      <th>pickup_latitude</th>\n",
       "      <th>dropoff_longitude</th>\n",
       "      <th>dropoff_latitude</th>\n",
       "      <th>...</th>\n",
       "      <th>y2</th>\n",
       "      <th>distance1</th>\n",
       "      <th>logdistance1</th>\n",
       "      <th>havers_dist</th>\n",
       "      <th>pickup_min</th>\n",
       "      <th>pickup_sec</th>\n",
       "      <th>pickup_day</th>\n",
       "      <th>pickup_date</th>\n",
       "      <th>pickup_mon</th>\n",
       "      <th>speed</th>\n",
       "    </tr>\n",
       "  </thead>\n",
       "  <tbody>\n",
       "    <tr>\n",
       "      <th>0</th>\n",
       "      <td>0</td>\n",
       "      <td>id2875421</td>\n",
       "      <td>2</td>\n",
       "      <td>2016-03-14 17:24:55</td>\n",
       "      <td>2016-03-14 17:32:30</td>\n",
       "      <td>1</td>\n",
       "      <td>-73.982155</td>\n",
       "      <td>40.767937</td>\n",
       "      <td>-73.964630</td>\n",
       "      <td>40.765602</td>\n",
       "      <td>...</td>\n",
       "      <td>-4637.567460</td>\n",
       "      <td>1.485567</td>\n",
       "      <td>0.910501</td>\n",
       "      <td>1.498523</td>\n",
       "      <td>24</td>\n",
       "      <td>55</td>\n",
       "      <td>0</td>\n",
       "      <td>14</td>\n",
       "      <td>3</td>\n",
       "      <td>11.856445</td>\n",
       "    </tr>\n",
       "    <tr>\n",
       "      <th>1</th>\n",
       "      <td>1</td>\n",
       "      <td>id2377394</td>\n",
       "      <td>1</td>\n",
       "      <td>2016-06-12 00:43:35</td>\n",
       "      <td>2016-06-12 00:54:38</td>\n",
       "      <td>1</td>\n",
       "      <td>-73.980415</td>\n",
       "      <td>40.738564</td>\n",
       "      <td>-73.999481</td>\n",
       "      <td>40.731152</td>\n",
       "      <td>...</td>\n",
       "      <td>-4640.780951</td>\n",
       "      <td>1.694063</td>\n",
       "      <td>0.991050</td>\n",
       "      <td>1.805510</td>\n",
       "      <td>43</td>\n",
       "      <td>35</td>\n",
       "      <td>6</td>\n",
       "      <td>12</td>\n",
       "      <td>6</td>\n",
       "      <td>9.803672</td>\n",
       "    </tr>\n",
       "    <tr>\n",
       "      <th>2</th>\n",
       "      <td>2</td>\n",
       "      <td>id3858529</td>\n",
       "      <td>2</td>\n",
       "      <td>2016-01-19 11:35:24</td>\n",
       "      <td>2016-01-19 12:10:48</td>\n",
       "      <td>1</td>\n",
       "      <td>-73.979027</td>\n",
       "      <td>40.763939</td>\n",
       "      <td>-74.005333</td>\n",
       "      <td>40.710087</td>\n",
       "      <td>...</td>\n",
       "      <td>-4642.385731</td>\n",
       "      <td>4.492538</td>\n",
       "      <td>1.703390</td>\n",
       "      <td>6.385107</td>\n",
       "      <td>35</td>\n",
       "      <td>24</td>\n",
       "      <td>1</td>\n",
       "      <td>19</td>\n",
       "      <td>1</td>\n",
       "      <td>10.822216</td>\n",
       "    </tr>\n",
       "    <tr>\n",
       "      <th>3</th>\n",
       "      <td>3</td>\n",
       "      <td>id3504673</td>\n",
       "      <td>2</td>\n",
       "      <td>2016-04-06 19:32:31</td>\n",
       "      <td>2016-04-06 19:39:40</td>\n",
       "      <td>1</td>\n",
       "      <td>-74.010040</td>\n",
       "      <td>40.719971</td>\n",
       "      <td>-74.012268</td>\n",
       "      <td>40.706718</td>\n",
       "      <td>...</td>\n",
       "      <td>-4642.781602</td>\n",
       "      <td>0.979350</td>\n",
       "      <td>0.682769</td>\n",
       "      <td>1.485500</td>\n",
       "      <td>32</td>\n",
       "      <td>31</td>\n",
       "      <td>2</td>\n",
       "      <td>6</td>\n",
       "      <td>4</td>\n",
       "      <td>12.465738</td>\n",
       "    </tr>\n",
       "    <tr>\n",
       "      <th>4</th>\n",
       "      <td>4</td>\n",
       "      <td>id2181028</td>\n",
       "      <td>2</td>\n",
       "      <td>2016-03-26 13:30:55</td>\n",
       "      <td>2016-03-26 13:38:10</td>\n",
       "      <td>1</td>\n",
       "      <td>-73.973053</td>\n",
       "      <td>40.793209</td>\n",
       "      <td>-73.972923</td>\n",
       "      <td>40.782520</td>\n",
       "      <td>...</td>\n",
       "      <td>-4636.579512</td>\n",
       "      <td>0.776502</td>\n",
       "      <td>0.574646</td>\n",
       "      <td>1.188590</td>\n",
       "      <td>30</td>\n",
       "      <td>55</td>\n",
       "      <td>5</td>\n",
       "      <td>26</td>\n",
       "      <td>3</td>\n",
       "      <td>9.836608</td>\n",
       "    </tr>\n",
       "  </tbody>\n",
       "</table>\n",
       "<p>5 rows × 28 columns</p>\n",
       "</div>"
      ],
      "text/plain": [
       "   Unnamed: 0         id  vendor_id      pickup_datetime     dropoff_datetime  \\\n",
       "0           0  id2875421          2  2016-03-14 17:24:55  2016-03-14 17:32:30   \n",
       "1           1  id2377394          1  2016-06-12 00:43:35  2016-06-12 00:54:38   \n",
       "2           2  id3858529          2  2016-01-19 11:35:24  2016-01-19 12:10:48   \n",
       "3           3  id3504673          2  2016-04-06 19:32:31  2016-04-06 19:39:40   \n",
       "4           4  id2181028          2  2016-03-26 13:30:55  2016-03-26 13:38:10   \n",
       "\n",
       "   passenger_count  pickup_longitude  pickup_latitude  dropoff_longitude  \\\n",
       "0                1        -73.982155        40.767937         -73.964630   \n",
       "1                1        -73.980415        40.738564         -73.999481   \n",
       "2                1        -73.979027        40.763939         -74.005333   \n",
       "3                1        -74.010040        40.719971         -74.012268   \n",
       "4                1        -73.973053        40.793209         -73.972923   \n",
       "\n",
       "   dropoff_latitude    ...               y2  distance1  logdistance1  \\\n",
       "0         40.765602    ...     -4637.567460   1.485567      0.910501   \n",
       "1         40.731152    ...     -4640.780951   1.694063      0.991050   \n",
       "2         40.710087    ...     -4642.385731   4.492538      1.703390   \n",
       "3         40.706718    ...     -4642.781602   0.979350      0.682769   \n",
       "4         40.782520    ...     -4636.579512   0.776502      0.574646   \n",
       "\n",
       "   havers_dist pickup_min  pickup_sec  pickup_day  pickup_date  pickup_mon  \\\n",
       "0     1.498523         24          55           0           14           3   \n",
       "1     1.805510         43          35           6           12           6   \n",
       "2     6.385107         35          24           1           19           1   \n",
       "3     1.485500         32          31           2            6           4   \n",
       "4     1.188590         30          55           5           26           3   \n",
       "\n",
       "       speed  \n",
       "0  11.856445  \n",
       "1   9.803672  \n",
       "2  10.822216  \n",
       "3  12.465738  \n",
       "4   9.836608  \n",
       "\n",
       "[5 rows x 28 columns]"
      ]
     },
     "execution_count": 2,
     "metadata": {},
     "output_type": "execute_result"
    }
   ],
   "source": [
    "taxi_set = pd.read_csv('cleaned_set.csv')\n",
    "taxi_set.head()"
   ]
  },
  {
   "cell_type": "code",
   "execution_count": 3,
   "metadata": {},
   "outputs": [
    {
     "data": {
      "text/plain": [
       "Index(['Unnamed: 0', 'id', 'vendor_id', 'pickup_datetime', 'dropoff_datetime',\n",
       "       'passenger_count', 'pickup_longitude', 'pickup_latitude',\n",
       "       'dropoff_longitude', 'dropoff_latitude', 'store_and_fwd_flag',\n",
       "       'trip_duration', 'logduration', 'pickup_hour', 'pickup_DayHour', 'x1',\n",
       "       'y1', 'x2', 'y2', 'distance1', 'logdistance1', 'havers_dist',\n",
       "       'pickup_min', 'pickup_sec', 'pickup_day', 'pickup_date', 'pickup_mon',\n",
       "       'speed'],\n",
       "      dtype='object')"
      ]
     },
     "execution_count": 3,
     "metadata": {},
     "output_type": "execute_result"
    }
   ],
   "source": [
    "taxi_set.columns"
   ]
  },
  {
   "cell_type": "markdown",
   "metadata": {},
   "source": [
    "### Converting Trip duration in Hours"
   ]
  },
  {
   "cell_type": "code",
   "execution_count": 4,
   "metadata": {},
   "outputs": [],
   "source": [
    "taxi_set['trip_dur_in_hr']=taxi_set['trip_duration']/3600"
   ]
  },
  {
   "cell_type": "code",
   "execution_count": 5,
   "metadata": {},
   "outputs": [
    {
     "data": {
      "text/plain": [
       "count    1.458487e+06\n",
       "mean     2.646940e-01\n",
       "std      8.809655e-01\n",
       "min      2.777778e-04\n",
       "25%      1.102778e-01\n",
       "50%      1.838889e-01\n",
       "75%      2.986111e-01\n",
       "max      2.399778e+01\n",
       "Name: trip_dur_in_hr, dtype: float64"
      ]
     },
     "execution_count": 5,
     "metadata": {},
     "output_type": "execute_result"
    }
   ],
   "source": [
    "taxi_set['trip_dur_in_hr'].describe()"
   ]
  },
  {
   "cell_type": "markdown",
   "metadata": {},
   "source": [
    "max value in 23 hour, we gonna remove trip with duration more than 2h"
   ]
  },
  {
   "cell_type": "code",
   "execution_count": 6,
   "metadata": {},
   "outputs": [],
   "source": [
    "taxi_set=taxi_set[taxi_set['trip_dur_in_hr'] <= 2]"
   ]
  },
  {
   "cell_type": "code",
   "execution_count": 7,
   "metadata": {},
   "outputs": [
    {
     "data": {
      "text/plain": [
       "count    1.456238e+06\n",
       "mean     2.322628e-01\n",
       "std      1.817477e-01\n",
       "min      2.777778e-04\n",
       "25%      1.102778e-01\n",
       "50%      1.838889e-01\n",
       "75%      2.980556e-01\n",
       "max      1.997500e+00\n",
       "Name: trip_dur_in_hr, dtype: float64"
      ]
     },
     "execution_count": 7,
     "metadata": {},
     "output_type": "execute_result"
    }
   ],
   "source": [
    "taxi_set['trip_dur_in_hr'].describe()"
   ]
  },
  {
   "cell_type": "code",
   "execution_count": 9,
   "metadata": {},
   "outputs": [
    {
     "data": {
      "text/plain": [
       "Index(['Unnamed: 0', 'id', 'vendor_id', 'pickup_datetime', 'dropoff_datetime',\n",
       "       'passenger_count', 'pickup_longitude', 'pickup_latitude',\n",
       "       'dropoff_longitude', 'dropoff_latitude', 'store_and_fwd_flag',\n",
       "       'trip_duration', 'logduration', 'pickup_hour', 'pickup_DayHour', 'x1',\n",
       "       'y1', 'x2', 'y2', 'distance1', 'logdistance1', 'havers_dist',\n",
       "       'pickup_min', 'pickup_sec', 'pickup_day', 'pickup_date', 'pickup_mon',\n",
       "       'speed', 'trip_dur_in_hr'],\n",
       "      dtype='object')"
      ]
     },
     "execution_count": 9,
     "metadata": {},
     "output_type": "execute_result"
    }
   ],
   "source": [
    "taxi_set.columns"
   ]
  },
  {
   "cell_type": "code",
   "execution_count": 12,
   "metadata": {},
   "outputs": [],
   "source": [
    "def create_datetime(df):\n",
    "\n",
    "    df['pickup_datetime']=pd.to_datetime(df['pickup_datetime'])\n",
    "\n",
    "    # Hour of the day\n",
    "    df['pickup_seconds'] = (df['pickup_sec'] + df['pickup_min'] * 60 + df['pickup_hour'] * 3600)\n",
    "    df['weather']=[1 if (i in [1,2,3]) else(2 if (i in [4,11,12]) else 3) for i in df['pickup_mon']]\n",
    "    df['quarter']=df['pickup_datetime'].dt.quarter  ## quarter of the year\n",
    "    df['mid_latitude']=(df['dropoff_latitude']-df['pickup_latitude'])/2\n",
    "    df['mid_longitude']=(df['dropoff_longitude']-df['pickup_longitude'])/2\n",
    "    df['night']=[1 if (i==0 or i>=20)  else 0 for i in df['pickup_hour']]\n",
    "    df['too_late']=[1 if (i<5 and i>0)  else 0 for i in df['pickup_hour']]\n",
    "    \n",
    "\n",
    "# Harvesine Distance\n",
    "\n",
    "def create_distance(df):\n",
    "    \n",
    "    #Haversine distance already in the file\n",
    "    #df['havers_dist'] = df.apply(lambda x: haversine(\n",
    "        #(x['pickup_latitude'], x['pickup_longitude']),\n",
    "        #(x['dropoff_latitude'], x['dropoff_longitude'])), axis=1)\n",
    "    \n",
    "    #Manhattan distance\n",
    "    df['Manhattan_dist']=[min(abs(i-j),abs(k-l)) for i,j,k,l in zip(df['x1'],df['y1'],df['x2'],df['y2'])]\n",
    "    \n",
    "    #Chebyshev distance\n",
    "    df['Chebyshev_dist']=[max(abs(i-j),abs(k-l)) for i,j,k,l in zip(df['x1'],df['y1'],df['x2'],df['y2'])]"
   ]
  },
  {
   "cell_type": "code",
   "execution_count": 13,
   "metadata": {},
   "outputs": [],
   "source": [
    "create_datetime(taxi_set)\n",
    "create_distance(taxi_set)"
   ]
  },
  {
   "cell_type": "markdown",
   "metadata": {},
   "source": [
    "‘Lon’ is point A longitude and ‘lat’ is point A latitude\n",
    "Bearing from point A to B, can be calculated as,\n",
    "\n",
    "##### β = atan2(X,Y), \n",
    "where, X and Y are two quantities and can be calculated as:\n",
    "\n",
    "##### X = cos lat2 * sin (lon2-lon1)\n",
    "##### Y = cos lat1 * sin lat2 – sin lat1 * cos lat2 * cos (lon2-lon1)\n",
    "##### https://www.igismap.com/formula-to-find-bearing-or-heading-angle-between-two-points-latitude-longitude/"
   ]
  },
  {
   "cell_type": "code",
   "execution_count": 14,
   "metadata": {},
   "outputs": [],
   "source": [
    "def bearing_heading(lat1, lon1, lat2, lon2):\n",
    "    #R = 6371  # in km\n",
    "    delta = np.radians(lon2 - lon1)\n",
    "    lat1, lon1, lat2, lon2 = map(np.radians, (lat1, lon1, lat2, lon2))\n",
    "    \n",
    "    X = np.cos(lat2) * np.sin(delta)\n",
    "    Y = np.cos(lat1) * np.sin(lat2) - np.sin(lat1) * np.cos(lat2) * np.cos(delta)\n",
    "    beta = np.arctan2(X, Y)\n",
    "    \n",
    "    return np.degrees(beta)"
   ]
  },
  {
   "cell_type": "code",
   "execution_count": 15,
   "metadata": {},
   "outputs": [],
   "source": [
    "taxi_set['bearing_direction']=[bearing_heading(i,j,k,l) for i,j,k,l in zip(taxi_set['pickup_latitude'], \n",
    "                                                                       taxi_set['pickup_longitude'],\n",
    "                                                                       taxi_set['dropoff_latitude'], \n",
    "                                                                       taxi_set['dropoff_longitude'])]"
   ]
  },
  {
   "cell_type": "code",
   "execution_count": 16,
   "metadata": {},
   "outputs": [
    {
     "data": {
      "text/plain": [
       "Index(['Unnamed: 0', 'id', 'vendor_id', 'pickup_datetime', 'dropoff_datetime',\n",
       "       'passenger_count', 'pickup_longitude', 'pickup_latitude',\n",
       "       'dropoff_longitude', 'dropoff_latitude', 'store_and_fwd_flag',\n",
       "       'trip_duration', 'logduration', 'pickup_hour', 'pickup_DayHour', 'x1',\n",
       "       'y1', 'x2', 'y2', 'distance1', 'logdistance1', 'havers_dist',\n",
       "       'pickup_min', 'pickup_sec', 'pickup_day', 'pickup_date', 'pickup_mon',\n",
       "       'speed', 'trip_dur_in_hr', 'pickup_seconds', 'weather', 'quarter',\n",
       "       'mid_latitude', 'mid_longitude', 'night', 'too_late', 'Manhattan_dist',\n",
       "       'Chebyshev_dist', 'bearing_direction'],\n",
       "      dtype='object')"
      ]
     },
     "execution_count": 16,
     "metadata": {},
     "output_type": "execute_result"
    }
   ],
   "source": [
    "taxi_set.columns"
   ]
  },
  {
   "cell_type": "code",
   "execution_count": 50,
   "metadata": {},
   "outputs": [],
   "source": [
    "## drop columns to avoid data type problems in xgboost\n",
    "train=taxi_set.drop(['id','vendor_id','pickup_datetime','dropoff_datetime','store_and_fwd_flag', 'logduration','trip_dur_in_hr',\n",
    "                     'pickup_DayHour', 'speed'],1)"
   ]
  },
  {
   "cell_type": "code",
   "execution_count": 51,
   "metadata": {},
   "outputs": [
    {
     "data": {
      "text/plain": [
       "Index(['Unnamed: 0', 'passenger_count', 'pickup_longitude', 'pickup_latitude',\n",
       "       'dropoff_longitude', 'dropoff_latitude', 'trip_duration', 'pickup_hour',\n",
       "       'x1', 'y1', 'x2', 'y2', 'distance1', 'logdistance1', 'havers_dist',\n",
       "       'pickup_min', 'pickup_sec', 'pickup_day', 'pickup_date', 'pickup_mon',\n",
       "       'pickup_seconds', 'weather', 'quarter', 'mid_latitude', 'mid_longitude',\n",
       "       'night', 'too_late', 'Manhattan_dist', 'Chebyshev_dist',\n",
       "       'bearing_direction'],\n",
       "      dtype='object')"
      ]
     },
     "execution_count": 51,
     "metadata": {},
     "output_type": "execute_result"
    }
   ],
   "source": [
    "train.columns"
   ]
  },
  {
   "cell_type": "code",
   "execution_count": 52,
   "metadata": {},
   "outputs": [],
   "source": [
    "y=np.log(train['trip_duration'].values + 1)\n",
    "x=train.drop(['trip_duration'],1)"
   ]
  },
  {
   "cell_type": "markdown",
   "metadata": {},
   "source": [
    "### xgboost"
   ]
  },
  {
   "cell_type": "code",
   "execution_count": 53,
   "metadata": {},
   "outputs": [],
   "source": [
    "from sklearn.cross_validation import train_test_split\n",
    "Xtrain, Xvalid, ytrain, yvalid = train_test_split(x, y, test_size=0.2, random_state=1996)"
   ]
  },
  {
   "cell_type": "code",
   "execution_count": 54,
   "metadata": {},
   "outputs": [],
   "source": [
    "dtrain = xgb.DMatrix(Xtrain, label=ytrain)"
   ]
  },
  {
   "cell_type": "code",
   "execution_count": 55,
   "metadata": {},
   "outputs": [],
   "source": [
    "dvalid = xgb.DMatrix(Xvalid, label=yvalid)\n",
    "#dtest = xgb.DMatrix(test[feature_names].values)\n",
    "evallist = [(dtrain, 'train'), (dvalid, 'valid')]\n",
    "\n",
    "num_round = 100000\n",
    "#From mayank's kernel\n",
    "xgb_pars = {'min_child_weight': 10, 'eta': 0.03, 'colsample_bytree': 0.3, 'max_depth': 10,\n",
    "            'subsample': 0.8, 'lambda': 1, 'nthread': 4, 'booster' : 'gbtree', 'silent': 1,\n",
    "            'eval_metric': 'rmse', 'objective': 'reg:linear'}"
   ]
  },
  {
   "cell_type": "code",
   "execution_count": 56,
   "metadata": {},
   "outputs": [
    {
     "name": "stdout",
     "output_type": "stream",
     "text": [
      "[0]\ttrain-rmse:5.83168\tvalid-rmse:5.83036\n",
      "Multiple eval metrics have been passed: 'valid-rmse' will be used for early stopping.\n",
      "\n",
      "Will train until valid-rmse hasn't improved in 90 rounds.\n",
      "[100]\ttrain-rmse:0.458548\tvalid-rmse:0.463523\n",
      "[200]\ttrain-rmse:0.334218\tvalid-rmse:0.349092\n",
      "[300]\ttrain-rmse:0.318866\tvalid-rmse:0.341512\n",
      "[400]\ttrain-rmse:0.308958\tvalid-rmse:0.337921\n",
      "[500]\ttrain-rmse:0.302384\tvalid-rmse:0.336034\n",
      "[600]\ttrain-rmse:0.297763\tvalid-rmse:0.334852\n",
      "[700]\ttrain-rmse:0.294046\tvalid-rmse:0.334041\n",
      "[800]\ttrain-rmse:0.290737\tvalid-rmse:0.333238\n",
      "[900]\ttrain-rmse:0.287753\tvalid-rmse:0.332768\n",
      "[1000]\ttrain-rmse:0.284994\tvalid-rmse:0.332166\n",
      "[1100]\ttrain-rmse:0.282497\tvalid-rmse:0.331691\n",
      "[1200]\ttrain-rmse:0.279847\tvalid-rmse:0.331104\n",
      "[1300]\ttrain-rmse:0.277578\tvalid-rmse:0.330747\n",
      "[1400]\ttrain-rmse:0.275701\tvalid-rmse:0.330495\n",
      "[1500]\ttrain-rmse:0.273923\tvalid-rmse:0.33027\n",
      "[1600]\ttrain-rmse:0.272006\tvalid-rmse:0.330002\n",
      "[1700]\ttrain-rmse:0.270111\tvalid-rmse:0.329717\n",
      "[1800]\ttrain-rmse:0.268434\tvalid-rmse:0.329522\n",
      "[1900]\ttrain-rmse:0.26659\tvalid-rmse:0.329196\n",
      "[2000]\ttrain-rmse:0.265091\tvalid-rmse:0.328992\n",
      "[2100]\ttrain-rmse:0.263598\tvalid-rmse:0.328789\n",
      "[2200]\ttrain-rmse:0.262046\tvalid-rmse:0.328588\n",
      "[2300]\ttrain-rmse:0.260481\tvalid-rmse:0.328351\n",
      "[2400]\ttrain-rmse:0.259112\tvalid-rmse:0.328199\n",
      "[2500]\ttrain-rmse:0.25779\tvalid-rmse:0.32805\n",
      "[2600]\ttrain-rmse:0.256438\tvalid-rmse:0.327926\n",
      "[2700]\ttrain-rmse:0.255219\tvalid-rmse:0.327814\n",
      "[2800]\ttrain-rmse:0.25388\tvalid-rmse:0.32766\n",
      "[2900]\ttrain-rmse:0.252705\tvalid-rmse:0.327545\n",
      "[3000]\ttrain-rmse:0.251597\tvalid-rmse:0.327479\n",
      "[3100]\ttrain-rmse:0.250283\tvalid-rmse:0.327347\n",
      "[3200]\ttrain-rmse:0.249229\tvalid-rmse:0.327266\n",
      "[3300]\ttrain-rmse:0.248104\tvalid-rmse:0.327171\n",
      "[3400]\ttrain-rmse:0.247073\tvalid-rmse:0.327115\n",
      "[3500]\ttrain-rmse:0.245963\tvalid-rmse:0.327021\n",
      "[3600]\ttrain-rmse:0.244994\tvalid-rmse:0.326966\n",
      "[3700]\ttrain-rmse:0.243997\tvalid-rmse:0.326862\n",
      "[3800]\ttrain-rmse:0.242934\tvalid-rmse:0.326753\n",
      "[3900]\ttrain-rmse:0.241854\tvalid-rmse:0.326678\n",
      "[4000]\ttrain-rmse:0.24082\tvalid-rmse:0.326564\n",
      "[4100]\ttrain-rmse:0.239767\tvalid-rmse:0.326436\n",
      "[4200]\ttrain-rmse:0.238839\tvalid-rmse:0.326336\n",
      "[4300]\ttrain-rmse:0.237892\tvalid-rmse:0.326279\n",
      "[4400]\ttrain-rmse:0.237039\tvalid-rmse:0.326241\n",
      "[4500]\ttrain-rmse:0.23614\tvalid-rmse:0.326222\n",
      "[4600]\ttrain-rmse:0.235251\tvalid-rmse:0.32619\n",
      "[4700]\ttrain-rmse:0.234298\tvalid-rmse:0.326114\n",
      "[4800]\ttrain-rmse:0.233512\tvalid-rmse:0.326103\n",
      "[4900]\ttrain-rmse:0.232661\tvalid-rmse:0.326056\n",
      "[5000]\ttrain-rmse:0.231854\tvalid-rmse:0.326014\n",
      "[5100]\ttrain-rmse:0.231\tvalid-rmse:0.325986\n",
      "[5200]\ttrain-rmse:0.230229\tvalid-rmse:0.325956\n",
      "[5300]\ttrain-rmse:0.229298\tvalid-rmse:0.325878\n",
      "[5400]\ttrain-rmse:0.228428\tvalid-rmse:0.325824\n",
      "[5500]\ttrain-rmse:0.227696\tvalid-rmse:0.325808\n",
      "[5600]\ttrain-rmse:0.22693\tvalid-rmse:0.325791\n",
      "[5700]\ttrain-rmse:0.226071\tvalid-rmse:0.325703\n",
      "[5800]\ttrain-rmse:0.225328\tvalid-rmse:0.325665\n",
      "[5900]\ttrain-rmse:0.224551\tvalid-rmse:0.32562\n",
      "[6000]\ttrain-rmse:0.223725\tvalid-rmse:0.325574\n",
      "[6100]\ttrain-rmse:0.222925\tvalid-rmse:0.325507\n",
      "[6200]\ttrain-rmse:0.222109\tvalid-rmse:0.325447\n",
      "[6300]\ttrain-rmse:0.221374\tvalid-rmse:0.325404\n",
      "[6400]\ttrain-rmse:0.22067\tvalid-rmse:0.325345\n",
      "[6500]\ttrain-rmse:0.219885\tvalid-rmse:0.325302\n",
      "[6600]\ttrain-rmse:0.219165\tvalid-rmse:0.325285\n",
      "[6700]\ttrain-rmse:0.218505\tvalid-rmse:0.325268\n",
      "[6800]\ttrain-rmse:0.217775\tvalid-rmse:0.325239\n",
      "[6900]\ttrain-rmse:0.217064\tvalid-rmse:0.325203\n",
      "[7000]\ttrain-rmse:0.216373\tvalid-rmse:0.325186\n",
      "[7100]\ttrain-rmse:0.215674\tvalid-rmse:0.325161\n",
      "[7200]\ttrain-rmse:0.214988\tvalid-rmse:0.325118\n",
      "[7300]\ttrain-rmse:0.214331\tvalid-rmse:0.325087\n",
      "[7400]\ttrain-rmse:0.213651\tvalid-rmse:0.325053\n",
      "[7500]\ttrain-rmse:0.212994\tvalid-rmse:0.325033\n",
      "[7600]\ttrain-rmse:0.212309\tvalid-rmse:0.325029\n",
      "[7700]\ttrain-rmse:0.211634\tvalid-rmse:0.325018\n",
      "[7800]\ttrain-rmse:0.21097\tvalid-rmse:0.324977\n",
      "[7900]\ttrain-rmse:0.210324\tvalid-rmse:0.324965\n",
      "[8000]\ttrain-rmse:0.209741\tvalid-rmse:0.324955\n",
      "[8100]\ttrain-rmse:0.209072\tvalid-rmse:0.324907\n",
      "[8200]\ttrain-rmse:0.208398\tvalid-rmse:0.324883\n",
      "[8300]\ttrain-rmse:0.207774\tvalid-rmse:0.324866\n",
      "[8400]\ttrain-rmse:0.207088\tvalid-rmse:0.324842\n",
      "Stopping. Best iteration:\n",
      "[8409]\ttrain-rmse:0.207038\tvalid-rmse:0.324838\n",
      "\n"
     ]
    }
   ],
   "source": [
    "model = xgb.train(xgb_pars, dtrain, num_round, evallist, early_stopping_rounds=90, maximize=False, verbose_eval=100)"
   ]
  },
  {
   "cell_type": "code",
   "execution_count": 57,
   "metadata": {},
   "outputs": [
    {
     "name": "stdout",
     "output_type": "stream",
     "text": [
      "Modeling RMSLE 0.32484\n"
     ]
    }
   ],
   "source": [
    "print('Modeling RMSLE %.5f' % model.best_score)"
   ]
  },
  {
   "cell_type": "code",
   "execution_count": 58,
   "metadata": {},
   "outputs": [
    {
     "data": {
      "image/png": "[encoded data removed]",
      "text/plain": [
       "<Figure size 432x288 with 1 Axes>"
      ]
     },
     "metadata": {},
     "output_type": "display_data"
    }
   ],
   "source": [
    "import matplotlib.pyplot as plt\n",
    "xgb.plot_importance(model, ax=None, height=0.2, xlim=None,\n",
    "                    ylim=None, title='Feature importance',\n",
    "                    xlabel='F score', ylabel='Features',\n",
    "                    importance_type='weight', max_num_features=None,\n",
    "                    grid=True)\n",
    "plt.show()\n"
   ]
  },
  {
   "cell_type": "code",
   "execution_count": 59,
   "metadata": {},
   "outputs": [],
   "source": [
    "import pickle\n",
    "pickle.dump(model,open('xgb_pred.sav','wb'))"
   ]
  },
  {
   "cell_type": "markdown",
   "metadata": {},
   "source": [
    "# TEST"
   ]
  },
  {
   "cell_type": "code",
   "execution_count": 93,
   "metadata": {},
   "outputs": [],
   "source": [
    "test_dataset = pd.read_csv('test.csv')"
   ]
  },
  {
   "cell_type": "code",
   "execution_count": 94,
   "metadata": {},
   "outputs": [
    {
     "data": {
      "text/plain": [
       "Index(['id', 'vendor_id', 'pickup_datetime', 'passenger_count',\n",
       "       'pickup_longitude', 'pickup_latitude', 'dropoff_longitude',\n",
       "       'dropoff_latitude', 'store_and_fwd_flag'],\n",
       "      dtype='object')"
      ]
     },
     "execution_count": 94,
     "metadata": {},
     "output_type": "execute_result"
    }
   ],
   "source": [
    "test_dataset.columns"
   ]
  },
  {
   "cell_type": "code",
   "execution_count": 95,
   "metadata": {},
   "outputs": [],
   "source": [
    "#Latitude and Longitude to cartesian cordindates converesion\n",
    "# Assuming Earth as sphere not ellipsoid \n",
    "def cartesian_x(lat,lon):\n",
    "    lat=np.radians(lat)\n",
    "    lon=np.radians(lon)\n",
    "    R=6371.0\n",
    "    x = R * np.cos(lat) * np.cos(lon)\n",
    "    return x\n",
    "def cartesian_y(lat,lon):\n",
    "    lat=np.radians(lat)\n",
    "    lon=np.radians(lon)\n",
    "    R=6371.0\n",
    "    y = R * np.cos(lat) * np.sin(lon)\n",
    "    return y\n",
    "# extracting cartesian x,y cordinates form latitude and longitude\n",
    "test_dataset['x1']=[cartesian_x(i,j) for i,j in zip(test_dataset['pickup_latitude'],test_dataset['pickup_longitude'])]\n",
    "test_dataset['y1']=[cartesian_y(i,j) for i,j in zip(test_dataset['pickup_latitude'],test_dataset['pickup_longitude'])]\n",
    "test_dataset['x2']=[cartesian_x(i,j) for i,j in zip(test_dataset['dropoff_latitude'],test_dataset['dropoff_longitude'])]\n",
    "test_dataset['y2']=[cartesian_y(i,j) for i,j in zip(test_dataset['dropoff_latitude'],test_dataset['dropoff_longitude'])]"
   ]
  },
  {
   "cell_type": "code",
   "execution_count": 96,
   "metadata": {},
   "outputs": [],
   "source": [
    "def euclidean_distance(a1,b1,a2,b2):\n",
    "    dist=np.sqrt((a2-a1)**2+(b2-b1)**2)\n",
    "    return dist\n",
    "    \n",
    "test_dataset['distance1']=[euclidean_distance(i,j,k,l) for i,j,k,l in zip(test_dataset['x1'], \n",
    "                                                                          test_dataset['y1'],\n",
    "                                                                          test_dataset['x2'], \n",
    "                                                                          test_dataset['y2'])]\n",
    "\n",
    "test_dataset['logdistance1']=np.log(test_dataset['distance1']+1)"
   ]
  },
  {
   "cell_type": "code",
   "execution_count": 99,
   "metadata": {},
   "outputs": [],
   "source": [
    "def create_distance1(df):\n",
    "    \n",
    "    #Haversine distance already in the file\n",
    "    df['havers_dist'] = df.apply(lambda x: haversine(\n",
    "        (x['pickup_latitude'], x['pickup_longitude']),\n",
    "        (x['dropoff_latitude'], x['dropoff_longitude'])), axis=1)\n",
    "    \n",
    "    #Manhattan distance\n",
    "    df['Manhattan_dist']=[min(abs(i-j),abs(k-l)) for i,j,k,l in zip(df['x1'],df['y1'],df['x2'],df['y2'])]\n",
    "    \n",
    "    #Chebyshev distance\n",
    "    df['Chebyshev_dist']=[max(abs(i-j),abs(k-l)) for i,j,k,l in zip(df['x1'],df['y1'],df['x2'],df['y2'])]\n",
    "\n",
    "def create_datetime_weekmont(df):\n",
    "    \n",
    "    df['pickup_datetime']=pd.to_datetime(df['pickup_datetime'])\n",
    "    df['pickup_hour'] = df['pickup_datetime'].dt.hour\n",
    "    df['pickup_min'] = df['pickup_datetime'].dt.minute\n",
    "    df['pickup_sec'] = df['pickup_datetime'].dt.second\n",
    "    df['pickup_day'] = df['pickup_datetime'].dt.dayofweek\n",
    "    df['pickup_date'] = df['pickup_datetime'].dt.day\n",
    "    df['pickup_mon'] = df['pickup_datetime'].dt.month"
   ]
  },
  {
   "cell_type": "code",
   "execution_count": 100,
   "metadata": {},
   "outputs": [],
   "source": [
    "create_distance1(test_dataset)\n",
    "create_datetime_weekmont(test_dataset)\n",
    "create_datetime(test_dataset)\n",
    "\n",
    "test_dataset['bearing_direction']=[bearing_heading(i,j,k,l) for i,j,k,l in zip(test_dataset['pickup_latitude'], \n",
    "                                                                       test_dataset['pickup_longitude'],\n",
    "                                                                       test_dataset['dropoff_latitude'], \n",
    "                                                                       test_dataset['dropoff_longitude'])]\n",
    "\n"
   ]
  },
  {
   "cell_type": "code",
   "execution_count": 101,
   "metadata": {},
   "outputs": [
    {
     "data": {
      "text/plain": [
       "Index(['id', 'vendor_id', 'pickup_datetime', 'passenger_count',\n",
       "       'pickup_longitude', 'pickup_latitude', 'dropoff_longitude',\n",
       "       'dropoff_latitude', 'store_and_fwd_flag', 'x1', 'y1', 'x2', 'y2',\n",
       "       'distance1', 'logdistance1', 'havers_dist', 'Manhattan_dist',\n",
       "       'Chebyshev_dist', 'pickup_hour', 'pickup_min', 'pickup_sec',\n",
       "       'pickup_day', 'pickup_date', 'pickup_mon', 'pickup_seconds', 'weather',\n",
       "       'quarter', 'mid_latitude', 'mid_longitude', 'night', 'too_late',\n",
       "       'bearing_direction'],\n",
       "      dtype='object')"
      ]
     },
     "execution_count": 101,
     "metadata": {},
     "output_type": "execute_result"
    }
   ],
   "source": [
    "test_dataset.columns"
   ]
  },
  {
   "cell_type": "code",
   "execution_count": 102,
   "metadata": {},
   "outputs": [],
   "source": [
    "## drop columns to avoid data type problems in xgboost\n",
    "test=test_dataset.drop(['id','vendor_id','pickup_datetime','store_and_fwd_flag'],1)"
   ]
  },
  {
   "cell_type": "code",
   "execution_count": 108,
   "metadata": {},
   "outputs": [],
   "source": [
    "test.insert(0, 'Unnamed: 0', range(0, len(test)))"
   ]
  },
  {
   "cell_type": "code",
   "execution_count": 110,
   "metadata": {},
   "outputs": [
    {
     "data": {
      "text/plain": [
       "Index(['Unnamed: 0', 'passenger_count', 'pickup_longitude', 'pickup_latitude',\n",
       "       'dropoff_longitude', 'dropoff_latitude', 'x1', 'y1', 'x2', 'y2',\n",
       "       'distance1', 'logdistance1', 'havers_dist', 'Manhattan_dist',\n",
       "       'Chebyshev_dist', 'pickup_hour', 'pickup_min', 'pickup_sec',\n",
       "       'pickup_day', 'pickup_date', 'pickup_mon', 'pickup_seconds', 'weather',\n",
       "       'quarter', 'mid_latitude', 'mid_longitude', 'night', 'too_late',\n",
       "       'bearing_direction'],\n",
       "      dtype='object')"
      ]
     },
     "execution_count": 110,
     "metadata": {},
     "output_type": "execute_result"
    }
   ],
   "source": [
    "test.columns\n"
   ]
  },
  {
   "cell_type": "code",
   "execution_count": 111,
   "metadata": {},
   "outputs": [
    {
     "data": {
      "text/plain": [
       "Index(['Unnamed: 0', 'passenger_count', 'pickup_longitude', 'pickup_latitude',\n",
       "       'dropoff_longitude', 'dropoff_latitude', 'pickup_hour', 'x1', 'y1',\n",
       "       'x2', 'y2', 'distance1', 'logdistance1', 'havers_dist', 'pickup_min',\n",
       "       'pickup_sec', 'pickup_day', 'pickup_date', 'pickup_mon',\n",
       "       'pickup_seconds', 'weather', 'quarter', 'mid_latitude', 'mid_longitude',\n",
       "       'night', 'too_late', 'Manhattan_dist', 'Chebyshev_dist',\n",
       "       'bearing_direction'],\n",
       "      dtype='object')"
      ]
     },
     "execution_count": 111,
     "metadata": {},
     "output_type": "execute_result"
    }
   ],
   "source": [
    "x.columns"
   ]
  },
  {
   "cell_type": "code",
   "execution_count": null,
   "metadata": {},
   "outputs": [],
   "source": []
  },
  {
   "cell_type": "code",
   "execution_count": 114,
   "metadata": {
    "scrolled": true
   },
   "outputs": [],
   "source": [
    "model=pickle.load(open('xgb_pred.sav','rb'))\n",
    "\n",
    "dtest = xgb.DMatrix(test[['Unnamed: 0', 'passenger_count', 'pickup_longitude', 'pickup_latitude',\n",
    "       'dropoff_longitude', 'dropoff_latitude', 'pickup_hour', 'x1', 'y1',\n",
    "       'x2', 'y2', 'distance1', 'logdistance1', 'havers_dist', 'pickup_min',\n",
    "       'pickup_sec', 'pickup_day', 'pickup_date', 'pickup_mon',\n",
    "       'pickup_seconds', 'weather', 'quarter', 'mid_latitude', 'mid_longitude',\n",
    "       'night', 'too_late', 'Manhattan_dist', 'Chebyshev_dist',\n",
    "       'bearing_direction'\n",
    "    \n",
    "]])\n",
    "ytest = model.predict(dtest)\n"
   ]
  },
  {
   "cell_type": "code",
   "execution_count": 117,
   "metadata": {},
   "outputs": [
    {
     "data": {
      "text/plain": [
       "array([ 402.4288,  402.4288, 1095.6332,  402.4288, 1095.6332, 1095.6332,\n",
       "       1095.6332, 2979.958 ,  402.4288], dtype=float32)"
      ]
     },
     "execution_count": 117,
     "metadata": {},
     "output_type": "execute_result"
    }
   ],
   "source": [
    "np.exp(np.round(ytest[1:10]))-1"
   ]
  },
  {
   "cell_type": "code",
   "execution_count": 118,
   "metadata": {},
   "outputs": [],
   "source": [
    "test['trip_duration'] = np.round(np.exp(ytest)) - 1"
   ]
  },
  {
   "cell_type": "code",
   "execution_count": 120,
   "metadata": {},
   "outputs": [],
   "source": [
    "test_dataset['trip_duration']=np.round(np.exp(ytest)) - 1"
   ]
  },
  {
   "cell_type": "code",
   "execution_count": 121,
   "metadata": {},
   "outputs": [],
   "source": [
    "test_dataset[['id', 'trip_duration']].to_csv('submission10.csv', index=False)"
   ]
  },
  {
   "cell_type": "code",
   "execution_count": null,
   "metadata": {},
   "outputs": [],
   "source": []
  }
 ],
 "metadata": {
  "kernelspec": {
   "display_name": "Python 3",
   "language": "python",
   "name": "python3"
  },
  "language_info": {
   "codemirror_mode": {
    "name": "ipython",
    "version": 3
   },
   "file_extension": ".py",
   "mimetype": "text/x-python",
   "name": "python",
   "nbconvert_exporter": "python",
   "pygments_lexer": "ipython3",
   "version": "3.6.5"
  }
 },
 "nbformat": 4,
 "nbformat_minor": 2
}
